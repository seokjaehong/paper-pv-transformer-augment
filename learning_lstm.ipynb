{
 "cells": [
  {
   "cell_type": "code",
   "execution_count": 8,
   "id": "626b4550-9f37-469b-a4d2-2dfca53a89de",
   "metadata": {
    "execution": {
     "iopub.execute_input": "2023-02-20T08:14:28.296759Z",
     "iopub.status.busy": "2023-02-20T08:14:28.296614Z",
     "iopub.status.idle": "2023-02-20T08:14:29.319289Z",
     "shell.execute_reply": "2023-02-20T08:14:29.318875Z",
     "shell.execute_reply.started": "2023-02-20T08:14:28.296726Z"
    }
   },
   "outputs": [],
   "source": [
    "import pandas as pd\n",
    "import os\n",
    "import numpy as np\n",
    "# from tqdm.notebook import tqdm_notebook\n",
    "import random as rn\n",
    "\n",
    "from tensorflow import keras\n",
    "import tensorflow as tf\n",
    "from tensorflow.keras import layers\n",
    "from tensorflow.keras.models import Model\n",
    "from tensorflow.keras.utils import plot_model\n",
    "\n",
    "\n",
    "rn.seed(42)\n",
    "np.random.seed(42)\n",
    "\n",
    "tf.random.set_seed(42)"
   ]
  },
  {
   "cell_type": "code",
   "execution_count": 9,
   "id": "64a76c5d-ef95-45fc-9c2b-1d0ed2db612f",
   "metadata": {
    "execution": {
     "iopub.execute_input": "2023-02-20T08:14:29.320032Z",
     "iopub.status.busy": "2023-02-20T08:14:29.319840Z",
     "iopub.status.idle": "2023-02-20T08:14:29.321977Z",
     "shell.execute_reply": "2023-02-20T08:14:29.321739Z",
     "shell.execute_reply.started": "2023-02-20T08:14:29.320019Z"
    }
   },
   "outputs": [],
   "source": [
    "os.environ['TF_CPP_MIN_LOG_LEVEL'] = \"3\"\n",
    "os.environ[\"CUDA_VISIBLE_DEVICES\"] = \"0\"\n",
    "# !pip install tqdm"
   ]
  },
  {
   "cell_type": "code",
   "execution_count": 10,
   "id": "20381af4-7e0a-44b8-9b1d-fcc12996760d",
   "metadata": {
    "execution": {
     "iopub.execute_input": "2023-02-20T08:14:29.322855Z",
     "iopub.status.busy": "2023-02-20T08:14:29.322709Z",
     "iopub.status.idle": "2023-02-20T08:14:29.702184Z",
     "shell.execute_reply": "2023-02-20T08:14:29.701830Z",
     "shell.execute_reply.started": "2023-02-20T08:14:29.322843Z"
    }
   },
   "outputs": [
    {
     "name": "stdout",
     "output_type": "stream",
     "text": [
      "[name: \"/device:CPU:0\"\n",
      "device_type: \"CPU\"\n",
      "memory_limit: 268435456\n",
      "locality {\n",
      "}\n",
      "incarnation: 5886132950047101990\n",
      "xla_global_id: -1\n",
      ", name: \"/device:GPU:0\"\n",
      "device_type: \"GPU\"\n",
      "memory_limit: 7787773952\n",
      "locality {\n",
      "  bus_id: 1\n",
      "  links {\n",
      "  }\n",
      "}\n",
      "incarnation: 11014889843603004407\n",
      "physical_device_desc: \"device: 0, name: NVIDIA GeForce RTX 3080, pci bus id: 0000:01:00.0, compute capability: 8.6\"\n",
      "xla_global_id: 416903419\n",
      "]\n"
     ]
    }
   ],
   "source": [
    "from tensorflow.python.client import device_lib\n",
    "\n",
    "print(device_lib.list_local_devices())"
   ]
  },
  {
   "cell_type": "code",
   "execution_count": 33,
   "id": "4016f9c9-c6a5-432a-8ef1-8699f7186b73",
   "metadata": {
    "execution": {
     "iopub.execute_input": "2023-02-20T08:14:29.702774Z",
     "iopub.status.busy": "2023-02-20T08:14:29.702652Z",
     "iopub.status.idle": "2023-02-20T08:14:29.706285Z",
     "shell.execute_reply": "2023-02-20T08:14:29.705754Z",
     "shell.execute_reply.started": "2023-02-20T08:14:29.702762Z"
    },
    "tags": []
   },
   "outputs": [],
   "source": [
    "import pandas as pd\n",
    "# df =pd.read_csv(\"0_jy_original_2022.csv\")\n",
    "# df = pd.read_csv(\"0_jy_interpol.csv\")\n",
    "# nwp_cols = \"lead_hr,NDNSW,SWDIR,SWDIF,TDSWS,NDNLW,OULWT,DLWS,NCPCP,SNOL,LSPRATE,LSSRATE,HPBLA,HFSOIL,LLRIB,UGRD,VGRD,HFSFC,XBLWS,YBLWS,LHTFL,TMP,TMIN,TMAX,SPFH,TOMFS,RH,VIS,FOGFR,DPT,PVIS5,15TL,15QT,VISIP,SHFLT-1,SHFLT-2,SHFLT-3,SHFLT-4,SHFLT-5,SHFLT-6,SHFLT-7,SHFLT-8,SHFLT-9,HTBM,SCST,DSCNC,DSCOC,NETTL-1,NETTL-2,NETTL-3,NETTL-4,NETTL-5,NETTL-6,NETTL-7,NETTL-8,NETTL-9,STOT-1,STOT-2,STOT-3,STOT-4,STOT-5,STOT-6,STOT-7,STOT-8,STOT-9,HCNP-1,HCNP-2,HCNP-3,HCNP-4,HCNP-5,WCNP-1,WCNP-2,WCNP-3,WCNP-4,WCNP-5,T15T-1,T15T-2,T15T-3,T15T-4,T15T-5,T15T-6,T15T-7,T15T-8,T15T-9,SH15-1,SH15-2,SH15-3,SH15-4,SH15-5,SH15-6,SH15-7,SH15-8,SH15-9,HDLB,STCP-1,STCP-2,STCP-3,STCP-4,STCP-5,MAXGUST,CBLT,SNOM,SMCL-1,SMCL-2,SMCL-3,SMCL-4,TSOIL-1,TSOIL-2,TSOIL-3,TSOIL-4,ROFR,SROFR,VLCDC,LCDC,MCDC,HCDC,CB25,CB45,TCAR,TCAM,CFB10,LCB,WBFLH,TCTH,50MU-min,50MV-min,50MU-max,50MV-max,PRMSL,SNOAL,TMP-SFC,HPBL,SFCR,LAND,FRICE,DIST,PRES\"\n",
    "df = pd.read_csv(\"clean_dataset/s1_case1.csv\")\n",
    "nwp_cols=\"lead_hr,NDNSW,SWDIR,SWDIF,TDSWS,NDNLW,OULWT,DLWS,HPBLA,HFSOIL,LLRIB,UGRD,VGRD,HFSFC,XBLWS,YBLWS,LHTFL,TMP,TMIN,TMAX,SPFH,TOMFS,RH,VIS,DPT,15TL,15QT,VISIP,SHFLT-1,SHFLT-2,SHFLT-3,SHFLT-4,SHFLT-5,SHFLT-6,SHFLT-7,SHFLT-8,HTBM,NETTL-1,NETTL-2,NETTL-3,NETTL-4,NETTL-5,NETTL-6,NETTL-7,NETTL-8,STOT-1,STOT-2,STOT-3,STOT-4,STOT-5,STOT-6,STOT-7,STOT-8,STOT-9,T15T-1,T15T-2,T15T-3,T15T-4,T15T-8,SH15-1,SH15-2,SH15-3,SH15-4,SH15-8,STCP-1,STCP-2,STCP-3,STCP-4,MAXGUST,CBLT,SNOM,SMCL-1,SMCL-2,SMCL-3,SMCL-4,TSOIL-1,TSOIL-2,TSOIL-3,TSOIL-4,ROFR,SROFR,VLCDC,LCDC,MCDC,HCDC,TCAR,TCAM,LCB,TCTH,50MU-min,50MV-min,50MU-max,50MV-max,PRMSL,SNOAL,TMP-SFC,HPBL,PRES\"\n",
    "nwp_cols = nwp_cols.split(',')\n",
    "output_col = [\"OT\"]\n",
    "FCST_cols =['date']\n",
    "# CRTN_cols = ['CRTN_TM']\n",
    "all_cols = FCST_cols+nwp_cols+output_col\n",
    "tmp_df= df[all_cols]\n",
    "\n",
    "tmp_df.date = pd.to_datetime(tmp_df.date)\n",
    "\n",
    "# case1 \n",
    "# case11_df= tmp_df.copy()\n",
    "# case11_df=case11_df[case11_df['lead_hr']!=0]\n",
    "# # case11_df=case11_df.drop(columns=['CRTN_TM'])\n",
    "# case11_df.reset_index(inplace=True)\n",
    "# case11_df=case11_df.drop(columns=['index'])\n",
    "\n",
    "\n",
    "# case2\n",
    "# tmp_df['day']=tmp_df.date.dt.day\n",
    "# case11_df= tmp_df.copy()\n",
    "# case11_df=case11_df[case11_df['lead_hr']!=0]\n",
    "# train_df = case11_df[case11_df['day']<=25]\n",
    "# test_df = case11_df[case11_df['day']>25]\n",
    "# case11_df = pd.concat([train_df,test_df])\n",
    "# case11_df=case11_df.drop(columns=['day'])\n",
    "# case11_df.reset_index(inplace=True)\n",
    "# case11_df=case11_df.drop(columns=['index'])\n",
    "\n",
    "# case3 \n",
    "case11_df= tmp_df.copy()\n",
    "case11_df=case11_df[case11_df['lead_hr']!=0]\n",
    "case11_df['month'] = case11_df.date.dt.month\n",
    "case11_df['day']=case11_df.date.dt.day\n",
    "test_df=case11_df[(case11_df['month'].isin([5,8,11,2]))&(case11_df['day'] > 12)]\n",
    "train_df=case11_df.drop(index=list(test_df.index))\n",
    "case11_df = pd.concat([train_df,test_df])\n",
    "case11_df=case11_df.drop(columns=['day','month'])\n",
    "case11_df.reset_index(inplace=True)\n",
    "case11_df=case11_df.drop(columns=['index'])\n"
   ]
  },
  {
   "cell_type": "code",
   "execution_count": 34,
   "id": "77b947bf",
   "metadata": {},
   "outputs": [],
   "source": [
    "case11_df=case11_df.set_index(\"date\")"
   ]
  },
  {
   "cell_type": "code",
   "execution_count": 35,
   "id": "b9df8aaf",
   "metadata": {},
   "outputs": [],
   "source": [
    "\n",
    "from sklearn.preprocessing import StandardScaler\n",
    "\n",
    "# sc = StandardScaler() \n",
    "# x = case11_df.drop(['OT'], axis=1).values # 독립변인들의 value값만 추출\n",
    "# y = case11_df['OT'].values # 종속변인 추출\n",
    "# x_std = sc.fit_transform(x) # standardizing the data\n",
    "# x_std_df= pd.DataFrame(x_std, columns=case11_df.columns)\n",
    "\n",
    "# case11_df=case11_df.reset_index()\n",
    "# case11_df=case11_df[['date','OT']]\n",
    "# case11_df=pd.merge(case11_df,x_std_df,how='inner',left_index=True,right_index=True)\n",
    "# case11_df.head()\n",
    "\n",
    "sc = StandardScaler()\n",
    "x = case11_df.values\n",
    "x_std = sc.fit_transform(x)\n",
    "x_std_df = pd.DataFrame(x_std, columns = case11_df.columns)\n",
    "\n",
    "case11_df = case11_df.reset_index()\n",
    "case11_df=case11_df.reset_index()\n",
    "case11_df=case11_df[['date']]\n",
    "case11_df=pd.merge(case11_df,x_std_df,how='inner',left_index=True,right_index=True)\n"
   ]
  },
  {
   "cell_type": "code",
   "execution_count": 36,
   "id": "7b9476fe",
   "metadata": {},
   "outputs": [],
   "source": [
    "all_len = len(case11_df)\n",
    "case11_df.date = pd.to_datetime(case11_df.date)\n",
    "# data = data[data.OT > 0]\n",
    "\n",
    "training_original_df = case11_df[:int(all_len*0.8)].reset_index(drop=True)\n",
    "test_original_df = case11_df[int(all_len*0.8):].reset_index(drop=True)\n",
    "test_original_df=test_original_df[(test_original_df['date'].dt.hour>=7) &(test_original_df['date'].dt.hour<20)]\n",
    "test_original_df=test_original_df.reset_index(drop=True)\n",
    "\n",
    "training_df = training_original_df[FCST_cols+nwp_cols+output_col]\n",
    "\n",
    "train_X = training_df[nwp_cols].values\n",
    "train_y = training_df['OT'].values\n",
    "\n",
    "test_X = test_original_df[nwp_cols].values\n",
    "test_y = test_original_df['OT'].values\n",
    "test_df = test_original_df\n"
   ]
  },
  {
   "cell_type": "code",
   "execution_count": 37,
   "id": "58ef0dab",
   "metadata": {},
   "outputs": [],
   "source": [
    "train_X = train_X.reshape(-1, len(nwp_cols), 1)\n",
    "test_X = test_X.reshape(-1, len(nwp_cols), 1)\n",
    "\n",
    "train_y = train_y.reshape(-1, 1)\n",
    "test_y = test_y.reshape(-1, 1)"
   ]
  },
  {
   "cell_type": "code",
   "execution_count": 38,
   "id": "62c2753a",
   "metadata": {},
   "outputs": [],
   "source": [
    "initializer = tf.keras.initializers.GlorotUniform(seed=42)\n",
    "\n",
    "def jy_lstm_model(input_cols):\n",
    "    ## nwp model\n",
    "    mim_input1 = layers.Input(shape=(len(input_cols),1))\n",
    "    mim_out1 = layers.LSTM(32, return_sequences=True)(mim_input1)\n",
    "    mim_out1 = layers.BatchNormalization()(mim_out1)\n",
    "    mim_out1 = layers.LSTM(16, return_sequences=True)(mim_out1)\n",
    "    mim_out1 = layers.BatchNormalization()(mim_out1)\n",
    "    mim_out1 = layers.LSTM(8, return_sequences=True)(mim_out1)\n",
    "    mim_out1 = layers.BatchNormalization()(mim_out1)\n",
    "    mim_out1 = layers.Flatten()(mim_out1)\n",
    "\n",
    "    concatenated = layers.Dense(256, activation='relu')(mim_out1)\n",
    "    # concatenated = layers.Dropout(0.2)(concatenated)\n",
    "    concatenated = layers.BatchNormalization()(concatenated)\n",
    "    concatenated = layers.Dense(64, activation='relu')(concatenated)\n",
    "    concatenated = layers.BatchNormalization()(concatenated)\n",
    "    concatenated = layers.Dense(8, activation='relu')(concatenated)\n",
    "    concatenated = layers.BatchNormalization()(concatenated)\n",
    "    concat_out = layers.Dense(1, activation='linear')(concatenated)\n",
    "\n",
    "    concat_model = Model(mim_input1, concat_out)\n",
    "\n",
    "    return concat_model"
   ]
  },
  {
   "cell_type": "code",
   "execution_count": 39,
   "id": "2c36ffc2",
   "metadata": {},
   "outputs": [],
   "source": [
    "## validation MAPE, RMSE 기준으로 EarlyStopping\n",
    "### input : patience\n",
    "class CustomEarlyStopping(tf.keras.callbacks.Callback):\n",
    "    def __init__(self, patience=0):\n",
    "        super(CustomEarlyStopping, self).__init__()\n",
    "        self.patience = patience\n",
    "        self.best_weights = None\n",
    "        \n",
    "    def on_train_begin(self, logs=None):\n",
    "        self.wait = 0\n",
    "        self.stopped_epoch = 0\n",
    "        self.best_v_mape = np.Inf\n",
    "        self.best_v_rmse = np.Inf\n",
    "\n",
    "    def on_epoch_end(self, epoch, logs=None): \n",
    "        v_mape=logs.get('val_mean_absolute_percentage_error')\n",
    "        v_rmse=logs.get('val_mean_squared_error')\n",
    "        # v_rmse = logs.get('val_myLoss')\n",
    "\n",
    "        if np.less(v_mape, self.best_v_mape) and np.less(v_rmse, self.best_v_rmse):\n",
    "            self.best_v_mape = v_mape\n",
    "            self.best_v_rmse = v_rmse\n",
    "            self.wait = 0\n",
    "            self.best_weights = self.model.get_weights()\n",
    "        else:\n",
    "            self.wait += 1\n",
    "            if self.wait >= self.patience:\n",
    "                self.stopped_epoch = epoch\n",
    "                self.model.stop_training = True\n",
    "                print(\"Restoring model weights from the end of the best epoch.\")\n",
    "                self.model.set_weights(self.best_weights)\n",
    "                \n",
    "    def on_train_end(self, logs=None):\n",
    "        if self.stopped_epoch > 0:\n",
    "            print(\"Epoch %05d: early stopping\" % (self.stopped_epoch + 1))\n"
   ]
  },
  {
   "cell_type": "code",
   "execution_count": 40,
   "id": "842bc395",
   "metadata": {},
   "outputs": [
    {
     "name": "stdout",
     "output_type": "stream",
     "text": [
      "Model: \"model_4\"\n",
      "_________________________________________________________________\n",
      " Layer (type)                Output Shape              Param #   \n",
      "=================================================================\n",
      " input_5 (InputLayer)        [(None, 98, 1)]           0         \n",
      "                                                                 \n",
      " lstm_12 (LSTM)              (None, 98, 32)            4352      \n",
      "                                                                 \n",
      " batch_normalization_24 (Bat  (None, 98, 32)           128       \n",
      " chNormalization)                                                \n",
      "                                                                 \n",
      " lstm_13 (LSTM)              (None, 98, 16)            3136      \n",
      "                                                                 \n",
      " batch_normalization_25 (Bat  (None, 98, 16)           64        \n",
      " chNormalization)                                                \n",
      "                                                                 \n",
      " lstm_14 (LSTM)              (None, 98, 8)             800       \n",
      "                                                                 \n",
      " batch_normalization_26 (Bat  (None, 98, 8)            32        \n",
      " chNormalization)                                                \n",
      "                                                                 \n",
      " flatten_4 (Flatten)         (None, 784)               0         \n",
      "                                                                 \n",
      " dense_16 (Dense)            (None, 256)               200960    \n",
      "                                                                 \n",
      " batch_normalization_27 (Bat  (None, 256)              1024      \n",
      " chNormalization)                                                \n",
      "                                                                 \n",
      " dense_17 (Dense)            (None, 64)                16448     \n",
      "                                                                 \n",
      " batch_normalization_28 (Bat  (None, 64)               256       \n",
      " chNormalization)                                                \n",
      "                                                                 \n",
      " dense_18 (Dense)            (None, 8)                 520       \n",
      "                                                                 \n",
      " batch_normalization_29 (Bat  (None, 8)                32        \n",
      " chNormalization)                                                \n",
      "                                                                 \n",
      " dense_19 (Dense)            (None, 1)                 9         \n",
      "                                                                 \n",
      "=================================================================\n",
      "Total params: 227,761\n",
      "Trainable params: 226,993\n",
      "Non-trainable params: 768\n",
      "_________________________________________________________________\n",
      "You must install pydot (`pip install pydot`) and install graphviz (see instructions at https://graphviz.gitlab.io/download/) for plot_model to work.\n",
      "Epoch 1/1000\n",
      "215/215 - 10s - loss: 0.2014 - mean_absolute_percentage_error: 96.4854 - mean_squared_error: 0.2014 - val_loss: 0.8101 - val_mean_absolute_percentage_error: 247.3709 - val_mean_squared_error: 0.8101 - 10s/epoch - 48ms/step\n",
      "Epoch 2/1000\n",
      "215/215 - 6s - loss: 0.1180 - mean_absolute_percentage_error: 71.4910 - mean_squared_error: 0.1180 - val_loss: 0.4134 - val_mean_absolute_percentage_error: 155.3340 - val_mean_squared_error: 0.4134 - 6s/epoch - 26ms/step\n",
      "Epoch 3/1000\n",
      "215/215 - 6s - loss: 0.0949 - mean_absolute_percentage_error: 66.6897 - mean_squared_error: 0.0949 - val_loss: 0.2360 - val_mean_absolute_percentage_error: 151.2921 - val_mean_squared_error: 0.2360 - 6s/epoch - 26ms/step\n",
      "Epoch 4/1000\n",
      "215/215 - 6s - loss: 0.0831 - mean_absolute_percentage_error: 60.8341 - mean_squared_error: 0.0831 - val_loss: 0.2070 - val_mean_absolute_percentage_error: 134.8446 - val_mean_squared_error: 0.2070 - 6s/epoch - 26ms/step\n",
      "Epoch 5/1000\n",
      "215/215 - 6s - loss: 0.0755 - mean_absolute_percentage_error: 59.3758 - mean_squared_error: 0.0755 - val_loss: 0.2231 - val_mean_absolute_percentage_error: 164.5788 - val_mean_squared_error: 0.2231 - 6s/epoch - 26ms/step\n",
      "Epoch 6/1000\n",
      "215/215 - 5s - loss: 0.0691 - mean_absolute_percentage_error: 55.7825 - mean_squared_error: 0.0691 - val_loss: 0.2227 - val_mean_absolute_percentage_error: 144.0540 - val_mean_squared_error: 0.2227 - 5s/epoch - 25ms/step\n",
      "Epoch 7/1000\n",
      "215/215 - 6s - loss: 0.0645 - mean_absolute_percentage_error: 52.6952 - mean_squared_error: 0.0645 - val_loss: 0.2603 - val_mean_absolute_percentage_error: 164.8540 - val_mean_squared_error: 0.2603 - 6s/epoch - 27ms/step\n",
      "Epoch 8/1000\n",
      "215/215 - 6s - loss: 0.0585 - mean_absolute_percentage_error: 50.8570 - mean_squared_error: 0.0585 - val_loss: 0.2022 - val_mean_absolute_percentage_error: 138.2381 - val_mean_squared_error: 0.2022 - 6s/epoch - 26ms/step\n",
      "Epoch 9/1000\n",
      "215/215 - 6s - loss: 0.0543 - mean_absolute_percentage_error: 48.8549 - mean_squared_error: 0.0543 - val_loss: 0.2238 - val_mean_absolute_percentage_error: 126.0409 - val_mean_squared_error: 0.2238 - 6s/epoch - 26ms/step\n",
      "Epoch 10/1000\n",
      "215/215 - 6s - loss: 0.0518 - mean_absolute_percentage_error: 47.5600 - mean_squared_error: 0.0518 - val_loss: 0.2096 - val_mean_absolute_percentage_error: 140.8548 - val_mean_squared_error: 0.2096 - 6s/epoch - 26ms/step\n",
      "Epoch 11/1000\n",
      "215/215 - 6s - loss: 0.0486 - mean_absolute_percentage_error: 46.8285 - mean_squared_error: 0.0486 - val_loss: 0.2107 - val_mean_absolute_percentage_error: 111.0238 - val_mean_squared_error: 0.2107 - 6s/epoch - 27ms/step\n",
      "Epoch 12/1000\n",
      "215/215 - 6s - loss: 0.0450 - mean_absolute_percentage_error: 44.1794 - mean_squared_error: 0.0450 - val_loss: 0.2302 - val_mean_absolute_percentage_error: 154.5671 - val_mean_squared_error: 0.2302 - 6s/epoch - 28ms/step\n",
      "Epoch 13/1000\n",
      "215/215 - 6s - loss: 0.0441 - mean_absolute_percentage_error: 44.0393 - mean_squared_error: 0.0441 - val_loss: 0.2260 - val_mean_absolute_percentage_error: 128.5878 - val_mean_squared_error: 0.2260 - 6s/epoch - 27ms/step\n",
      "Epoch 14/1000\n",
      "Restoring model weights from the end of the best epoch.\n",
      "215/215 - 6s - loss: 0.0410 - mean_absolute_percentage_error: 42.4672 - mean_squared_error: 0.0410 - val_loss: 0.2163 - val_mean_absolute_percentage_error: 127.5139 - val_mean_squared_error: 0.2163 - 6s/epoch - 27ms/step\n",
      "Epoch 00014: early stopping\n"
     ]
    },
    {
     "data": {
      "text/plain": [
       "<keras.callbacks.History at 0x20000d7a220>"
      ]
     },
     "execution_count": 40,
     "metadata": {},
     "output_type": "execute_result"
    }
   ],
   "source": [
    "## model define\n",
    "from datetime import datetime\n",
    "initializer = tf.keras.initializers.GlorotUniform(seed=42)\n",
    "model = jy_lstm_model(nwp_cols)\n",
    "model.summary()\n",
    "plot_model(model, to_file='lstm_graph.png')\n",
    "model.compile(optimizer='adam', loss=\"mse\", metrics=[tf.keras.losses.MeanAbsolutePercentageError(),tf.keras.metrics.MeanSquaredError()])\n",
    "start_dt = datetime.now()\n",
    "# model fit\n",
    "model.fit(train_X, train_y, \n",
    "          epochs=1000, batch_size=256,\n",
    "          callbacks=[CustomEarlyStopping(patience=10)],\n",
    "          validation_data=(test_X, test_y),\n",
    "          shuffle=True, verbose=2)\t# because of time-series\n"
   ]
  },
  {
   "cell_type": "code",
   "execution_count": 41,
   "id": "1af0046d",
   "metadata": {},
   "outputs": [
    {
     "name": "stdout",
     "output_type": "stream",
     "text": [
      "233/233 [==============================] - 3s 11ms/step\n",
      "0.20701295408205295\n",
      "0.3188444599323698\n",
      "85.044384\n",
      "3.321943\n"
     ]
    }
   ],
   "source": [
    "# concat_model.save(\"convlstm_model_customloss\")\n",
    "model.save(\"model/jy_lstm_model_case1_2.h5\")\n",
    "model = keras.models.load_model(\"model/jy_lstm_model_case1_2.h5\", compile=False)\n",
    "test_start_dt = datetime.now()\n",
    "prediction = model.predict(test_X)\n",
    "\n",
    "\n",
    "prediction_df = pd.DataFrame(prediction, columns=['OT_pred'])\n",
    "# prediction_df[prediction_df['adjust_pred']<0]=0\n",
    "# test_df=test_df.reset_index()\n",
    "test_df[\"OT_pred\"] = prediction_df\n",
    "\n",
    "\n",
    "from sklearn.metrics import mean_absolute_error,mean_squared_error\n",
    "mae = mean_absolute_error(test_df['OT'], test_df['OT_pred'])\n",
    "mse = mean_squared_error(test_df['OT'], test_df['OT_pred'])\n",
    "\n",
    "print(mse)\n",
    "print(mae)\n",
    "print((test_start_dt- start_dt).total_seconds())\n",
    "print((datetime.now()-test_start_dt).total_seconds())"
   ]
  },
  {
   "cell_type": "code",
   "execution_count": null,
   "id": "6fee2f81",
   "metadata": {},
   "outputs": [],
   "source": []
  },
  {
   "cell_type": "code",
   "execution_count": null,
   "id": "d0b1ce4e",
   "metadata": {},
   "outputs": [],
   "source": []
  },
  {
   "cell_type": "code",
   "execution_count": null,
   "id": "39205324",
   "metadata": {},
   "outputs": [],
   "source": []
  },
  {
   "cell_type": "code",
   "execution_count": null,
   "id": "285df7dc",
   "metadata": {},
   "outputs": [],
   "source": []
  },
  {
   "cell_type": "code",
   "execution_count": null,
   "id": "7a528a6c",
   "metadata": {},
   "outputs": [],
   "source": []
  },
  {
   "cell_type": "code",
   "execution_count": null,
   "id": "93a262db",
   "metadata": {},
   "outputs": [],
   "source": []
  },
  {
   "cell_type": "code",
   "execution_count": null,
   "id": "4b9c6927",
   "metadata": {},
   "outputs": [],
   "source": []
  },
  {
   "cell_type": "code",
   "execution_count": null,
   "id": "fab02749",
   "metadata": {},
   "outputs": [],
   "source": []
  },
  {
   "cell_type": "code",
   "execution_count": null,
   "id": "47906e14",
   "metadata": {},
   "outputs": [],
   "source": []
  },
  {
   "cell_type": "code",
   "execution_count": null,
   "id": "9fde21f3",
   "metadata": {},
   "outputs": [],
   "source": []
  },
  {
   "cell_type": "code",
   "execution_count": null,
   "id": "228e18f2",
   "metadata": {},
   "outputs": [],
   "source": []
  },
  {
   "cell_type": "code",
   "execution_count": null,
   "id": "e2c13486",
   "metadata": {},
   "outputs": [],
   "source": []
  },
  {
   "cell_type": "code",
   "execution_count": null,
   "id": "bbb2f0e7",
   "metadata": {},
   "outputs": [],
   "source": []
  },
  {
   "cell_type": "code",
   "execution_count": 50,
   "id": "119b65da-7a9b-4f53-9384-59c48ae6be48",
   "metadata": {
    "execution": {
     "iopub.execute_input": "2023-02-20T08:14:29.706923Z",
     "iopub.status.busy": "2023-02-20T08:14:29.706802Z",
     "iopub.status.idle": "2023-02-20T08:14:53.882990Z",
     "shell.execute_reply": "2023-02-20T08:14:53.882486Z",
     "shell.execute_reply.started": "2023-02-20T08:14:29.706898Z"
    }
   },
   "outputs": [
    {
     "name": "stderr",
     "output_type": "stream",
     "text": [
      "C:\\Users\\HONGSJ\\AppData\\Local\\Temp\\ipykernel_60404\\2734462485.py:2: SettingWithCopyWarning: \n",
      "A value is trying to be set on a copy of a slice from a DataFrame.\n",
      "Try using .loc[row_indexer,col_indexer] = value instead\n",
      "\n",
      "See the caveats in the documentation: https://pandas.pydata.org/pandas-docs/stable/user_guide/indexing.html#returning-a-view-versus-a-copy\n",
      "  data.date = pd.to_datetime(data.date)\n"
     ]
    }
   ],
   "source": [
    "# data.CRTN_TM = pd.to_datetime(data.CRTN_TM)\n",
    "data.date = pd.to_datetime(data.date)\n",
    "# data = data[data.OT > 0]\n",
    "\n",
    "training_original_df = data[data.date < '2022-10-01 00:00:00'].reset_index(drop=True)\n",
    "test_original_df = data[data.date >= '2022-10-01 00:00:00'].reset_index(drop=True)\n",
    "\n",
    "training_df = training_original_df[all_cols]\n",
    "\n",
    "train_X = training_df[nwp_cols].values\n",
    "train_y = training_df[['OT']].values\n",
    "\n",
    "test_X = test_original_df[nwp_cols].values\n",
    "test_y = test_original_df[['OT']].values\n",
    "test_df = test_original_df"
   ]
  },
  {
   "cell_type": "code",
   "execution_count": 51,
   "id": "fc871662-298d-45d2-8101-699849e7592f",
   "metadata": {
    "execution": {
     "iopub.execute_input": "2023-02-20T08:14:53.883772Z",
     "iopub.status.busy": "2023-02-20T08:14:53.883597Z",
     "iopub.status.idle": "2023-02-20T08:14:55.006753Z",
     "shell.execute_reply": "2023-02-20T08:14:55.006344Z",
     "shell.execute_reply.started": "2023-02-20T08:14:53.883760Z"
    }
   },
   "outputs": [],
   "source": [
    "from sklearn.preprocessing import MinMaxScaler\n",
    "\n",
    "sc_x1 = MinMaxScaler()\n",
    "train_X = sc_x1.fit_transform(train_X)\n",
    "test_X = sc_x1.transform(test_X)\n",
    "\n",
    "sc_y = MinMaxScaler()\n",
    "train_y = sc_y.fit_transform(train_y)\n",
    "test_y = sc_y.transform(test_y)"
   ]
  },
  {
   "cell_type": "code",
   "execution_count": 52,
   "id": "bdd1addc-8e6e-4d8a-b5a3-45de4d79fc67",
   "metadata": {
    "execution": {
     "iopub.execute_input": "2023-02-20T08:14:55.007416Z",
     "iopub.status.busy": "2023-02-20T08:14:55.007323Z",
     "iopub.status.idle": "2023-02-20T08:14:55.010028Z",
     "shell.execute_reply": "2023-02-20T08:14:55.009773Z",
     "shell.execute_reply.started": "2023-02-20T08:14:55.007404Z"
    },
    "tags": []
   },
   "outputs": [],
   "source": [
    "train_X = train_X.reshape(-1, len(nwp_cols), 1)\n",
    "test_X = test_X.reshape(-1, len(nwp_cols), 1)\n",
    "\n",
    "train_y = train_y.reshape(-1, 1)\n",
    "test_y = test_y.reshape(-1, 1)"
   ]
  },
  {
   "cell_type": "code",
   "execution_count": 53,
   "id": "a966d0e9-f999-42e7-a5ae-16a43dc793a8",
   "metadata": {
    "execution": {
     "iopub.execute_input": "2023-02-20T08:14:55.010614Z",
     "iopub.status.busy": "2023-02-20T08:14:55.010388Z",
     "iopub.status.idle": "2023-02-20T08:14:55.016975Z",
     "shell.execute_reply": "2023-02-20T08:14:55.016719Z",
     "shell.execute_reply.started": "2023-02-20T08:14:55.010599Z"
    },
    "tags": []
   },
   "outputs": [
    {
     "data": {
      "text/plain": [
       "(45602, 137, 1)"
      ]
     },
     "execution_count": 53,
     "metadata": {},
     "output_type": "execute_result"
    }
   ],
   "source": [
    "train_X.shape"
   ]
  },
  {
   "cell_type": "code",
   "execution_count": 54,
   "id": "76b78dd8-ad7b-407b-ae3e-705714b963bf",
   "metadata": {
    "execution": {
     "iopub.execute_input": "2023-02-20T08:14:55.017497Z",
     "iopub.status.busy": "2023-02-20T08:14:55.017409Z",
     "iopub.status.idle": "2023-02-20T08:14:55.020675Z",
     "shell.execute_reply": "2023-02-20T08:14:55.020413Z",
     "shell.execute_reply.started": "2023-02-20T08:14:55.017485Z"
    },
    "tags": []
   },
   "outputs": [
    {
     "data": {
      "text/plain": [
       "(17523, 137, 1)"
      ]
     },
     "execution_count": 54,
     "metadata": {},
     "output_type": "execute_result"
    }
   ],
   "source": [
    "test_X.shape"
   ]
  },
  {
   "cell_type": "code",
   "execution_count": 55,
   "id": "5d688b0d-9452-47ec-ab0b-1a2c26b66099",
   "metadata": {
    "execution": {
     "iopub.execute_input": "2023-02-20T08:14:55.021170Z",
     "iopub.status.busy": "2023-02-20T08:14:55.021066Z",
     "iopub.status.idle": "2023-02-20T08:14:55.024564Z",
     "shell.execute_reply": "2023-02-20T08:14:55.024258Z",
     "shell.execute_reply.started": "2023-02-20T08:14:55.021159Z"
    },
    "tags": []
   },
   "outputs": [
    {
     "data": {
      "text/plain": [
       "(45602, 1)"
      ]
     },
     "execution_count": 55,
     "metadata": {},
     "output_type": "execute_result"
    }
   ],
   "source": [
    "train_y.shape"
   ]
  },
  {
   "cell_type": "code",
   "execution_count": 56,
   "id": "cc5147c9-f333-4499-8880-5baa9e908b1b",
   "metadata": {
    "execution": {
     "iopub.execute_input": "2023-02-20T08:14:55.025016Z",
     "iopub.status.busy": "2023-02-20T08:14:55.024926Z",
     "iopub.status.idle": "2023-02-20T08:14:55.029477Z",
     "shell.execute_reply": "2023-02-20T08:14:55.029175Z",
     "shell.execute_reply.started": "2023-02-20T08:14:55.025001Z"
    },
    "tags": []
   },
   "outputs": [
    {
     "data": {
      "text/plain": [
       "(17523, 1)"
      ]
     },
     "execution_count": 56,
     "metadata": {},
     "output_type": "execute_result"
    }
   ],
   "source": [
    "test_y.shape"
   ]
  },
  {
   "cell_type": "code",
   "execution_count": 57,
   "id": "c00a1616-5757-43c1-9a31-b38eab67875c",
   "metadata": {
    "execution": {
     "iopub.execute_input": "2023-02-20T08:14:55.030496Z",
     "iopub.status.busy": "2023-02-20T08:14:55.030407Z",
     "iopub.status.idle": "2023-02-20T08:14:55.034559Z",
     "shell.execute_reply": "2023-02-20T08:14:55.034181Z",
     "shell.execute_reply.started": "2023-02-20T08:14:55.030484Z"
    },
    "tags": []
   },
   "outputs": [],
   "source": [
    "initializer = tf.keras.initializers.GlorotUniform(seed=42)\n",
    "\n",
    "def jy_lstm_model(input_cols):\n",
    "    ## nwp model\n",
    "    mim_input1 = layers.Input(shape=(len(input_cols),1))\n",
    "    mim_out1 = layers.LSTM(32, return_sequences=True)(mim_input1)\n",
    "    mim_out1 = layers.BatchNormalization()(mim_out1)\n",
    "    mim_out1 = layers.LSTM(16, return_sequences=True)(mim_out1)\n",
    "    mim_out1 = layers.BatchNormalization()(mim_out1)\n",
    "    mim_out1 = layers.LSTM(8, return_sequences=True)(mim_out1)\n",
    "    mim_out1 = layers.BatchNormalization()(mim_out1)\n",
    "    mim_out1 = layers.Flatten()(mim_out1)\n",
    "\n",
    "    concatenated = layers.Dense(256, activation='relu')(mim_out1)\n",
    "    # concatenated = layers.Dropout(0.2)(concatenated)\n",
    "    concatenated = layers.BatchNormalization()(concatenated)\n",
    "    concatenated = layers.Dense(64, activation='relu')(concatenated)\n",
    "    concatenated = layers.BatchNormalization()(concatenated)\n",
    "    concatenated = layers.Dense(8, activation='relu')(concatenated)\n",
    "    concatenated = layers.BatchNormalization()(concatenated)\n",
    "    concat_out = layers.Dense(1, activation='linear')(concatenated)\n",
    "\n",
    "    concat_model = Model(mim_input1, concat_out)\n",
    "\n",
    "    return concat_model"
   ]
  },
  {
   "cell_type": "code",
   "execution_count": 58,
   "id": "bf44396d-2eae-4866-a457-b697aea8e304",
   "metadata": {
    "execution": {
     "iopub.execute_input": "2023-02-20T08:14:55.035019Z",
     "iopub.status.busy": "2023-02-20T08:14:55.034930Z",
     "iopub.status.idle": "2023-02-20T08:14:55.039319Z",
     "shell.execute_reply": "2023-02-20T08:14:55.038968Z",
     "shell.execute_reply.started": "2023-02-20T08:14:55.035008Z"
    },
    "tags": []
   },
   "outputs": [],
   "source": [
    "## validation MAPE, RMSE 기준으로 EarlyStopping\n",
    "### input : patience\n",
    "class CustomEarlyStopping(tf.keras.callbacks.Callback):\n",
    "    def __init__(self, patience=0):\n",
    "        super(CustomEarlyStopping, self).__init__()\n",
    "        self.patience = patience\n",
    "        self.best_weights = None\n",
    "        \n",
    "    def on_train_begin(self, logs=None):\n",
    "        self.wait = 0\n",
    "        self.stopped_epoch = 0\n",
    "        self.best_v_mape = np.Inf\n",
    "        self.best_v_rmse = np.Inf\n",
    "\n",
    "    def on_epoch_end(self, epoch, logs=None): \n",
    "        v_mape=logs.get('val_mean_absolute_percentage_error')\n",
    "        v_rmse=logs.get('val_mean_squared_error')\n",
    "        # v_rmse = logs.get('val_myLoss')\n",
    "\n",
    "        if np.less(v_mape, self.best_v_mape) and np.less(v_rmse, self.best_v_rmse):\n",
    "            self.best_v_mape = v_mape\n",
    "            self.best_v_rmse = v_rmse\n",
    "            self.wait = 0\n",
    "            self.best_weights = self.model.get_weights()\n",
    "        else:\n",
    "            self.wait += 1\n",
    "            if self.wait >= self.patience:\n",
    "                self.stopped_epoch = epoch\n",
    "                self.model.stop_training = True\n",
    "                print(\"Restoring model weights from the end of the best epoch.\")\n",
    "                self.model.set_weights(self.best_weights)\n",
    "                \n",
    "    def on_train_end(self, logs=None):\n",
    "        if self.stopped_epoch > 0:\n",
    "            print(\"Epoch %05d: early stopping\" % (self.stopped_epoch + 1))\n"
   ]
  },
  {
   "cell_type": "code",
   "execution_count": 22,
   "id": "dddef0fa",
   "metadata": {},
   "outputs": [
    {
     "name": "stdout",
     "output_type": "stream",
     "text": [
      "Requirement already satisfied: pydot in d:\\study\\tensorflow\\lib\\site-packages (1.4.2)\n",
      "Requirement already satisfied: pyparsing>=2.1.4 in d:\\study\\tensorflow\\lib\\site-packages (from pydot) (3.0.9)\n",
      "Note: you may need to restart the kernel to use updated packages.\n"
     ]
    },
    {
     "name": "stderr",
     "output_type": "stream",
     "text": [
      "\n",
      "[notice] A new release of pip available: 22.3.1 -> 23.2.1\n",
      "[notice] To update, run: D:\\study\\tensorflow\\Scripts\\python.exe -m pip install --upgrade pip\n"
     ]
    }
   ],
   "source": [
    "pip install pydot"
   ]
  },
  {
   "cell_type": "code",
   "execution_count": 59,
   "id": "07bb2d67-bdc7-4d0e-bca5-ad4d9c896904",
   "metadata": {
    "execution": {
     "iopub.execute_input": "2023-02-20T08:14:55.039775Z",
     "iopub.status.busy": "2023-02-20T08:14:55.039688Z",
     "iopub.status.idle": "2023-02-20T08:32:52.381776Z",
     "shell.execute_reply": "2023-02-20T08:32:52.381026Z",
     "shell.execute_reply.started": "2023-02-20T08:14:55.039764Z"
    },
    "tags": []
   },
   "outputs": [
    {
     "name": "stdout",
     "output_type": "stream",
     "text": [
      "Model: \"model_3\"\n",
      "_________________________________________________________________\n",
      " Layer (type)                Output Shape              Param #   \n",
      "=================================================================\n",
      " input_4 (InputLayer)        [(None, 137, 1)]          0         \n",
      "                                                                 \n",
      " lstm_9 (LSTM)               (None, 137, 32)           4352      \n",
      "                                                                 \n",
      " batch_normalization_18 (Bat  (None, 137, 32)          128       \n",
      " chNormalization)                                                \n",
      "                                                                 \n",
      " lstm_10 (LSTM)              (None, 137, 16)           3136      \n",
      "                                                                 \n",
      " batch_normalization_19 (Bat  (None, 137, 16)          64        \n",
      " chNormalization)                                                \n",
      "                                                                 \n",
      " lstm_11 (LSTM)              (None, 137, 8)            800       \n",
      "                                                                 \n",
      " batch_normalization_20 (Bat  (None, 137, 8)           32        \n",
      " chNormalization)                                                \n",
      "                                                                 \n",
      " flatten_3 (Flatten)         (None, 1096)              0         \n",
      "                                                                 \n",
      " dense_12 (Dense)            (None, 256)               280832    \n",
      "                                                                 \n",
      " batch_normalization_21 (Bat  (None, 256)              1024      \n",
      " chNormalization)                                                \n",
      "                                                                 \n",
      " dense_13 (Dense)            (None, 64)                16448     \n",
      "                                                                 \n",
      " batch_normalization_22 (Bat  (None, 64)               256       \n",
      " chNormalization)                                                \n",
      "                                                                 \n",
      " dense_14 (Dense)            (None, 8)                 520       \n",
      "                                                                 \n",
      " batch_normalization_23 (Bat  (None, 8)                32        \n",
      " chNormalization)                                                \n",
      "                                                                 \n",
      " dense_15 (Dense)            (None, 1)                 9         \n",
      "                                                                 \n",
      "=================================================================\n",
      "Total params: 307,633\n",
      "Trainable params: 306,865\n",
      "Non-trainable params: 768\n",
      "_________________________________________________________________\n",
      "You must install pydot (`pip install pydot`) and install graphviz (see instructions at https://graphviz.gitlab.io/download/) for plot_model to work.\n",
      "Epoch 1/1000\n",
      "179/179 - 10s - loss: 0.0583 - mean_absolute_percentage_error: 38939156.0000 - mean_squared_error: 0.0583 - val_loss: 0.1768 - val_mean_absolute_percentage_error: 97155592.0000 - val_mean_squared_error: 0.1768 - 10s/epoch - 56ms/step\n",
      "Epoch 2/1000\n",
      "179/179 - 5s - loss: 0.0148 - mean_absolute_percentage_error: 19560104.0000 - mean_squared_error: 0.0148 - val_loss: 0.0772 - val_mean_absolute_percentage_error: 88560472.0000 - val_mean_squared_error: 0.0772 - 5s/epoch - 31ms/step\n",
      "Epoch 3/1000\n",
      "179/179 - 5s - loss: 0.0127 - mean_absolute_percentage_error: 18255878.0000 - mean_squared_error: 0.0127 - val_loss: 0.0411 - val_mean_absolute_percentage_error: 80693432.0000 - val_mean_squared_error: 0.0411 - 5s/epoch - 31ms/step\n",
      "Epoch 4/1000\n",
      "179/179 - 6s - loss: 0.0120 - mean_absolute_percentage_error: 17058412.0000 - mean_squared_error: 0.0120 - val_loss: 0.0177 - val_mean_absolute_percentage_error: 46980376.0000 - val_mean_squared_error: 0.0177 - 6s/epoch - 34ms/step\n",
      "Epoch 5/1000\n",
      "179/179 - 6s - loss: 0.0107 - mean_absolute_percentage_error: 15267910.0000 - mean_squared_error: 0.0107 - val_loss: 0.0212 - val_mean_absolute_percentage_error: 42816044.0000 - val_mean_squared_error: 0.0212 - 6s/epoch - 33ms/step\n",
      "Epoch 6/1000\n",
      "179/179 - 6s - loss: 0.0102 - mean_absolute_percentage_error: 14603858.0000 - mean_squared_error: 0.0102 - val_loss: 0.0143 - val_mean_absolute_percentage_error: 34615404.0000 - val_mean_squared_error: 0.0143 - 6s/epoch - 36ms/step\n",
      "Epoch 7/1000\n",
      "179/179 - 6s - loss: 0.0099 - mean_absolute_percentage_error: 14234381.0000 - mean_squared_error: 0.0099 - val_loss: 0.0200 - val_mean_absolute_percentage_error: 35510052.0000 - val_mean_squared_error: 0.0200 - 6s/epoch - 34ms/step\n",
      "Epoch 8/1000\n",
      "179/179 - 6s - loss: 0.0094 - mean_absolute_percentage_error: 13765257.0000 - mean_squared_error: 0.0094 - val_loss: 0.0296 - val_mean_absolute_percentage_error: 58795752.0000 - val_mean_squared_error: 0.0296 - 6s/epoch - 35ms/step\n",
      "Epoch 9/1000\n",
      "179/179 - 6s - loss: 0.0092 - mean_absolute_percentage_error: 13437022.0000 - mean_squared_error: 0.0092 - val_loss: 0.0161 - val_mean_absolute_percentage_error: 29665986.0000 - val_mean_squared_error: 0.0161 - 6s/epoch - 35ms/step\n",
      "Epoch 10/1000\n",
      "179/179 - 7s - loss: 0.0091 - mean_absolute_percentage_error: 13718887.0000 - mean_squared_error: 0.0091 - val_loss: 0.0178 - val_mean_absolute_percentage_error: 26771942.0000 - val_mean_squared_error: 0.0178 - 7s/epoch - 37ms/step\n",
      "Epoch 11/1000\n",
      "179/179 - 7s - loss: 0.0085 - mean_absolute_percentage_error: 12326449.0000 - mean_squared_error: 0.0085 - val_loss: 0.0226 - val_mean_absolute_percentage_error: 30125626.0000 - val_mean_squared_error: 0.0226 - 7s/epoch - 38ms/step\n",
      "Epoch 12/1000\n",
      "179/179 - 7s - loss: 0.0083 - mean_absolute_percentage_error: 11738669.0000 - mean_squared_error: 0.0083 - val_loss: 0.0173 - val_mean_absolute_percentage_error: 28903444.0000 - val_mean_squared_error: 0.0173 - 7s/epoch - 37ms/step\n",
      "Epoch 13/1000\n",
      "179/179 - 6s - loss: 0.0082 - mean_absolute_percentage_error: 12286976.0000 - mean_squared_error: 0.0082 - val_loss: 0.0203 - val_mean_absolute_percentage_error: 33544392.0000 - val_mean_squared_error: 0.0203 - 6s/epoch - 35ms/step\n",
      "Epoch 14/1000\n",
      "179/179 - 6s - loss: 0.0078 - mean_absolute_percentage_error: 11146936.0000 - mean_squared_error: 0.0078 - val_loss: 0.0368 - val_mean_absolute_percentage_error: 50419172.0000 - val_mean_squared_error: 0.0368 - 6s/epoch - 35ms/step\n",
      "Epoch 15/1000\n",
      "179/179 - 6s - loss: 0.0077 - mean_absolute_percentage_error: 11284556.0000 - mean_squared_error: 0.0077 - val_loss: 0.0319 - val_mean_absolute_percentage_error: 35259988.0000 - val_mean_squared_error: 0.0319 - 6s/epoch - 35ms/step\n",
      "Epoch 16/1000\n",
      "Restoring model weights from the end of the best epoch.\n",
      "179/179 - 6s - loss: 0.0076 - mean_absolute_percentage_error: 11391680.0000 - mean_squared_error: 0.0076 - val_loss: 0.0168 - val_mean_absolute_percentage_error: 28142922.0000 - val_mean_squared_error: 0.0168 - 6s/epoch - 36ms/step\n",
      "Epoch 00016: early stopping\n"
     ]
    },
    {
     "data": {
      "text/plain": [
       "<keras.callbacks.History at 0x20230ceb7c0>"
      ]
     },
     "execution_count": 59,
     "metadata": {},
     "output_type": "execute_result"
    }
   ],
   "source": [
    "## model define\n",
    "initializer = tf.keras.initializers.GlorotUniform(seed=42)\n",
    "model = jy_lstm_model(nwp_cols)\n",
    "model.summary()\n",
    "plot_model(model, to_file='lstm_graph.png')\n",
    "model.compile(optimizer='adam', loss=\"mse\", metrics=[tf.keras.losses.MeanAbsolutePercentageError(),tf.keras.metrics.MeanSquaredError()])\n",
    "\n",
    "# model fit\n",
    "model.fit(train_X, train_y, \n",
    "          epochs=1000, batch_size=256,\n",
    "          callbacks=[CustomEarlyStopping(patience=10)],\n",
    "          validation_data=(test_X, test_y),\n",
    "          shuffle=True, verbose=2)\t# because of time-series\n"
   ]
  },
  {
   "cell_type": "code",
   "execution_count": 60,
   "id": "665457ae-a21d-4ce7-8e3e-c462366e0e34",
   "metadata": {
    "execution": {
     "iopub.execute_input": "2023-02-20T08:32:52.383416Z",
     "iopub.status.busy": "2023-02-20T08:32:52.383293Z",
     "iopub.status.idle": "2023-02-20T08:33:52.229561Z",
     "shell.execute_reply": "2023-02-20T08:33:52.229193Z",
     "shell.execute_reply.started": "2023-02-20T08:32:52.383403Z"
    }
   },
   "outputs": [
    {
     "name": "stdout",
     "output_type": "stream",
     "text": [
      "548/548 [==============================] - 8s 13ms/step\n"
     ]
    }
   ],
   "source": [
    "# concat_model.save(\"convlstm_model_customloss\")\n",
    "model.save(\"model/jy_lstm_model_case1_2.h5\")\n",
    "model = keras.models.load_model(\"model/jy_lstm_model_case1_2.h5\", compile=False)\n",
    "\n",
    "prediction = model.predict(test_X)\n",
    "\n",
    "real_predictions = sc_y.inverse_transform(prediction)\n",
    "# real_predictions = prediction\n",
    "real_predictions = real_predictions.reshape(real_predictions.shape[0]*real_predictions.shape[1])\n"
   ]
  },
  {
   "cell_type": "code",
   "execution_count": 79,
   "id": "a86dcfe5-839c-42a4-b7e1-063616240b2a",
   "metadata": {
    "execution": {
     "iopub.execute_input": "2023-02-20T08:33:52.243360Z",
     "iopub.status.busy": "2023-02-20T08:33:52.243216Z",
     "iopub.status.idle": "2023-02-20T08:33:53.201829Z",
     "shell.execute_reply": "2023-02-20T08:33:53.201345Z",
     "shell.execute_reply.started": "2023-02-20T08:33:52.243341Z"
    }
   },
   "outputs": [
    {
     "name": "stdout",
     "output_type": "stream",
     "text": [
      "160524.02089659084 313.7804043357511\n",
      "14.37\n"
     ]
    },
    {
     "name": "stderr",
     "output_type": "stream",
     "text": [
      "C:\\Users\\HONGSJ\\AppData\\Local\\Temp\\ipykernel_60404\\2819021567.py:13: SettingWithCopyWarning: \n",
      "A value is trying to be set on a copy of a slice from a DataFrame.\n",
      "Try using .loc[row_indexer,col_indexer] = value instead\n",
      "\n",
      "See the caveats in the documentation: https://pandas.pydata.org/pandas-docs/stable/user_guide/indexing.html#returning-a-view-versus-a-copy\n",
      "  test_df['n_mape'] = abs(test_df[\"OT\"] - test_df[\"OT_pred\"]) /2184 *100\n"
     ]
    }
   ],
   "source": [
    "test_df = test_original_df\n",
    "prediction_df = pd.DataFrame(real_predictions, columns=['adjust_pred'])\n",
    "# prediction_df[prediction_df['adjust_pred']<0]=0\n",
    "\n",
    "test_df[\"OT_pred\"] = prediction_df\n",
    "test_df= test_df[test_df['OT']>0]\n",
    "\n",
    "# print(test_df)\n",
    "from sklearn.metrics import mean_absolute_error,mean_squared_error\n",
    "mae=mean_absolute_error(test_df['OT'], test_df['OT_pred'])\n",
    "mse = mean_squared_error(test_df['OT'], test_df['OT_pred'])\n",
    "print(mse,mae)\n",
    "test_df['n_mape'] = abs(test_df[\"OT\"] - test_df[\"OT_pred\"]) /2184 *100\n",
    "print(round(np.mean(test_df['n_mape']),2))"
   ]
  },
  {
   "cell_type": "code",
   "execution_count": 80,
   "id": "a3853fca-f157-4964-a84f-0f663f1eeb42",
   "metadata": {},
   "outputs": [
    {
     "data": {
      "text/html": [
       "<div>\n",
       "<style scoped>\n",
       "    .dataframe tbody tr th:only-of-type {\n",
       "        vertical-align: middle;\n",
       "    }\n",
       "\n",
       "    .dataframe tbody tr th {\n",
       "        vertical-align: top;\n",
       "    }\n",
       "\n",
       "    .dataframe thead th {\n",
       "        text-align: right;\n",
       "    }\n",
       "</style>\n",
       "<table border=\"1\" class=\"dataframe\">\n",
       "  <thead>\n",
       "    <tr style=\"text-align: right;\">\n",
       "      <th></th>\n",
       "      <th>date</th>\n",
       "      <th>lead_hr</th>\n",
       "      <th>NDNSW</th>\n",
       "      <th>SWDIR</th>\n",
       "      <th>SWDIF</th>\n",
       "      <th>TDSWS</th>\n",
       "      <th>NDNLW</th>\n",
       "      <th>OULWT</th>\n",
       "      <th>DLWS</th>\n",
       "      <th>NCPCP</th>\n",
       "      <th>...</th>\n",
       "      <th>HPBL</th>\n",
       "      <th>SFCR</th>\n",
       "      <th>LAND</th>\n",
       "      <th>FRICE</th>\n",
       "      <th>DIST</th>\n",
       "      <th>PRES</th>\n",
       "      <th>OT</th>\n",
       "      <th>CRTN_TM</th>\n",
       "      <th>OT_pred</th>\n",
       "      <th>n_mape</th>\n",
       "    </tr>\n",
       "  </thead>\n",
       "  <tbody>\n",
       "    <tr>\n",
       "      <th>49</th>\n",
       "      <td>2022-10-01 06:00:00</td>\n",
       "      <td>21</td>\n",
       "      <td>0.000000</td>\n",
       "      <td>0.000000</td>\n",
       "      <td>0.000000</td>\n",
       "      <td>0.000000</td>\n",
       "      <td>-88.156021</td>\n",
       "      <td>289.040649</td>\n",
       "      <td>298.502487</td>\n",
       "      <td>0.0</td>\n",
       "      <td>...</td>\n",
       "      <td>89.112728</td>\n",
       "      <td>0.500002</td>\n",
       "      <td>1</td>\n",
       "      <td>9999</td>\n",
       "      <td>393.8125</td>\n",
       "      <td>97151.31250</td>\n",
       "      <td>118.465833</td>\n",
       "      <td>2022-09-30 9:00</td>\n",
       "      <td>228.500687</td>\n",
       "      <td>5.038226</td>\n",
       "    </tr>\n",
       "    <tr>\n",
       "      <th>50</th>\n",
       "      <td>2022-10-01 06:00:00</td>\n",
       "      <td>45</td>\n",
       "      <td>0.000000</td>\n",
       "      <td>0.000000</td>\n",
       "      <td>0.000000</td>\n",
       "      <td>0.000000</td>\n",
       "      <td>-87.287666</td>\n",
       "      <td>288.359650</td>\n",
       "      <td>302.056839</td>\n",
       "      <td>0.0</td>\n",
       "      <td>...</td>\n",
       "      <td>83.923545</td>\n",
       "      <td>0.500002</td>\n",
       "      <td>1</td>\n",
       "      <td>9999</td>\n",
       "      <td>393.8125</td>\n",
       "      <td>97162.28125</td>\n",
       "      <td>118.465833</td>\n",
       "      <td>2022-09-29 9:00</td>\n",
       "      <td>161.545593</td>\n",
       "      <td>1.972516</td>\n",
       "    </tr>\n",
       "    <tr>\n",
       "      <th>51</th>\n",
       "      <td>2022-10-01 06:00:00</td>\n",
       "      <td>3</td>\n",
       "      <td>0.000000</td>\n",
       "      <td>0.000000</td>\n",
       "      <td>0.000000</td>\n",
       "      <td>0.000000</td>\n",
       "      <td>-89.709282</td>\n",
       "      <td>285.835861</td>\n",
       "      <td>284.607010</td>\n",
       "      <td>0.0</td>\n",
       "      <td>...</td>\n",
       "      <td>83.947447</td>\n",
       "      <td>0.500002</td>\n",
       "      <td>1</td>\n",
       "      <td>9999</td>\n",
       "      <td>393.8125</td>\n",
       "      <td>97131.33594</td>\n",
       "      <td>118.465833</td>\n",
       "      <td>2022-10-01 3:00</td>\n",
       "      <td>68.721741</td>\n",
       "      <td>2.277660</td>\n",
       "    </tr>\n",
       "    <tr>\n",
       "      <th>52</th>\n",
       "      <td>2022-10-01 06:00:00</td>\n",
       "      <td>33</td>\n",
       "      <td>0.000000</td>\n",
       "      <td>0.000000</td>\n",
       "      <td>0.000000</td>\n",
       "      <td>0.000000</td>\n",
       "      <td>-89.448166</td>\n",
       "      <td>288.545624</td>\n",
       "      <td>298.564529</td>\n",
       "      <td>0.0</td>\n",
       "      <td>...</td>\n",
       "      <td>89.113375</td>\n",
       "      <td>0.500002</td>\n",
       "      <td>1</td>\n",
       "      <td>9999</td>\n",
       "      <td>393.8125</td>\n",
       "      <td>97148.36719</td>\n",
       "      <td>118.465833</td>\n",
       "      <td>2022-09-29 21:00</td>\n",
       "      <td>229.032272</td>\n",
       "      <td>5.062566</td>\n",
       "    </tr>\n",
       "    <tr>\n",
       "      <th>53</th>\n",
       "      <td>2022-10-01 06:00:00</td>\n",
       "      <td>9</td>\n",
       "      <td>0.000000</td>\n",
       "      <td>0.000000</td>\n",
       "      <td>0.000000</td>\n",
       "      <td>0.000000</td>\n",
       "      <td>-94.724327</td>\n",
       "      <td>290.485153</td>\n",
       "      <td>287.944519</td>\n",
       "      <td>0.0</td>\n",
       "      <td>...</td>\n",
       "      <td>89.101119</td>\n",
       "      <td>0.500002</td>\n",
       "      <td>1</td>\n",
       "      <td>9999</td>\n",
       "      <td>393.8125</td>\n",
       "      <td>97096.20313</td>\n",
       "      <td>118.465833</td>\n",
       "      <td>2022-09-30 21:00</td>\n",
       "      <td>97.481735</td>\n",
       "      <td>0.960810</td>\n",
       "    </tr>\n",
       "    <tr>\n",
       "      <th>...</th>\n",
       "      <td>...</td>\n",
       "      <td>...</td>\n",
       "      <td>...</td>\n",
       "      <td>...</td>\n",
       "      <td>...</td>\n",
       "      <td>...</td>\n",
       "      <td>...</td>\n",
       "      <td>...</td>\n",
       "      <td>...</td>\n",
       "      <td>...</td>\n",
       "      <td>...</td>\n",
       "      <td>...</td>\n",
       "      <td>...</td>\n",
       "      <td>...</td>\n",
       "      <td>...</td>\n",
       "      <td>...</td>\n",
       "      <td>...</td>\n",
       "      <td>...</td>\n",
       "      <td>...</td>\n",
       "      <td>...</td>\n",
       "      <td>...</td>\n",
       "    </tr>\n",
       "    <tr>\n",
       "      <th>17469</th>\n",
       "      <td>2022-12-31 17:00:00</td>\n",
       "      <td>8</td>\n",
       "      <td>72.356906</td>\n",
       "      <td>35.335938</td>\n",
       "      <td>46.778117</td>\n",
       "      <td>82.077874</td>\n",
       "      <td>-78.455750</td>\n",
       "      <td>242.157303</td>\n",
       "      <td>227.652084</td>\n",
       "      <td>0.0</td>\n",
       "      <td>...</td>\n",
       "      <td>115.577175</td>\n",
       "      <td>0.500002</td>\n",
       "      <td>1</td>\n",
       "      <td>9999</td>\n",
       "      <td>393.8125</td>\n",
       "      <td>97934.85156</td>\n",
       "      <td>5.750278</td>\n",
       "      <td>2022-12-31 9:00</td>\n",
       "      <td>0.000000</td>\n",
       "      <td>0.263291</td>\n",
       "    </tr>\n",
       "    <tr>\n",
       "      <th>17470</th>\n",
       "      <td>2022-12-31 17:00:00</td>\n",
       "      <td>32</td>\n",
       "      <td>47.380344</td>\n",
       "      <td>8.406250</td>\n",
       "      <td>45.611020</td>\n",
       "      <td>53.635316</td>\n",
       "      <td>-35.829834</td>\n",
       "      <td>233.529205</td>\n",
       "      <td>276.171921</td>\n",
       "      <td>0.0</td>\n",
       "      <td>...</td>\n",
       "      <td>778.849898</td>\n",
       "      <td>0.500002</td>\n",
       "      <td>1</td>\n",
       "      <td>9999</td>\n",
       "      <td>393.8125</td>\n",
       "      <td>97929.92188</td>\n",
       "      <td>5.750278</td>\n",
       "      <td>2022-12-30 9:00</td>\n",
       "      <td>280.230133</td>\n",
       "      <td>12.567759</td>\n",
       "    </tr>\n",
       "    <tr>\n",
       "      <th>17471</th>\n",
       "      <td>2022-12-31 17:00:00</td>\n",
       "      <td>2</td>\n",
       "      <td>76.208469</td>\n",
       "      <td>40.691406</td>\n",
       "      <td>46.489055</td>\n",
       "      <td>86.241797</td>\n",
       "      <td>-87.699585</td>\n",
       "      <td>244.750015</td>\n",
       "      <td>222.613052</td>\n",
       "      <td>0.0</td>\n",
       "      <td>...</td>\n",
       "      <td>207.476852</td>\n",
       "      <td>0.500002</td>\n",
       "      <td>1</td>\n",
       "      <td>9999</td>\n",
       "      <td>393.8125</td>\n",
       "      <td>97962.66406</td>\n",
       "      <td>5.750278</td>\n",
       "      <td>2022-12-31 15:00</td>\n",
       "      <td>0.000000</td>\n",
       "      <td>0.263291</td>\n",
       "    </tr>\n",
       "    <tr>\n",
       "      <th>17472</th>\n",
       "      <td>2022-12-31 17:00:00</td>\n",
       "      <td>38</td>\n",
       "      <td>64.028781</td>\n",
       "      <td>23.507812</td>\n",
       "      <td>49.189145</td>\n",
       "      <td>72.463441</td>\n",
       "      <td>-63.962235</td>\n",
       "      <td>238.142166</td>\n",
       "      <td>247.639908</td>\n",
       "      <td>0.0</td>\n",
       "      <td>...</td>\n",
       "      <td>667.351851</td>\n",
       "      <td>0.500002</td>\n",
       "      <td>1</td>\n",
       "      <td>9999</td>\n",
       "      <td>393.8125</td>\n",
       "      <td>97913.53125</td>\n",
       "      <td>5.750278</td>\n",
       "      <td>2022-12-30 3:00</td>\n",
       "      <td>179.239960</td>\n",
       "      <td>7.943667</td>\n",
       "    </tr>\n",
       "    <tr>\n",
       "      <th>17473</th>\n",
       "      <td>2022-12-31 17:00:00</td>\n",
       "      <td>26</td>\n",
       "      <td>43.114719</td>\n",
       "      <td>6.304688</td>\n",
       "      <td>43.400447</td>\n",
       "      <td>48.804297</td>\n",
       "      <td>-35.383698</td>\n",
       "      <td>232.370453</td>\n",
       "      <td>278.034607</td>\n",
       "      <td>0.0</td>\n",
       "      <td>...</td>\n",
       "      <td>440.004021</td>\n",
       "      <td>0.500002</td>\n",
       "      <td>1</td>\n",
       "      <td>9999</td>\n",
       "      <td>393.8125</td>\n",
       "      <td>97889.72656</td>\n",
       "      <td>5.750278</td>\n",
       "      <td>2022-12-30 15:00</td>\n",
       "      <td>160.210587</td>\n",
       "      <td>7.072358</td>\n",
       "    </tr>\n",
       "  </tbody>\n",
       "</table>\n",
       "<p>8203 rows × 142 columns</p>\n",
       "</div>"
      ],
      "text/plain": [
       "                     date  lead_hr      NDNSW      SWDIR      SWDIF  \\\n",
       "49    2022-10-01 06:00:00       21   0.000000   0.000000   0.000000   \n",
       "50    2022-10-01 06:00:00       45   0.000000   0.000000   0.000000   \n",
       "51    2022-10-01 06:00:00        3   0.000000   0.000000   0.000000   \n",
       "52    2022-10-01 06:00:00       33   0.000000   0.000000   0.000000   \n",
       "53    2022-10-01 06:00:00        9   0.000000   0.000000   0.000000   \n",
       "...                   ...      ...        ...        ...        ...   \n",
       "17469 2022-12-31 17:00:00        8  72.356906  35.335938  46.778117   \n",
       "17470 2022-12-31 17:00:00       32  47.380344   8.406250  45.611020   \n",
       "17471 2022-12-31 17:00:00        2  76.208469  40.691406  46.489055   \n",
       "17472 2022-12-31 17:00:00       38  64.028781  23.507812  49.189145   \n",
       "17473 2022-12-31 17:00:00       26  43.114719   6.304688  43.400447   \n",
       "\n",
       "           TDSWS      NDNLW       OULWT        DLWS  NCPCP  ...        HPBL  \\\n",
       "49      0.000000 -88.156021  289.040649  298.502487    0.0  ...   89.112728   \n",
       "50      0.000000 -87.287666  288.359650  302.056839    0.0  ...   83.923545   \n",
       "51      0.000000 -89.709282  285.835861  284.607010    0.0  ...   83.947447   \n",
       "52      0.000000 -89.448166  288.545624  298.564529    0.0  ...   89.113375   \n",
       "53      0.000000 -94.724327  290.485153  287.944519    0.0  ...   89.101119   \n",
       "...          ...        ...         ...         ...    ...  ...         ...   \n",
       "17469  82.077874 -78.455750  242.157303  227.652084    0.0  ...  115.577175   \n",
       "17470  53.635316 -35.829834  233.529205  276.171921    0.0  ...  778.849898   \n",
       "17471  86.241797 -87.699585  244.750015  222.613052    0.0  ...  207.476852   \n",
       "17472  72.463441 -63.962235  238.142166  247.639908    0.0  ...  667.351851   \n",
       "17473  48.804297 -35.383698  232.370453  278.034607    0.0  ...  440.004021   \n",
       "\n",
       "           SFCR  LAND  FRICE      DIST         PRES          OT  \\\n",
       "49     0.500002     1   9999  393.8125  97151.31250  118.465833   \n",
       "50     0.500002     1   9999  393.8125  97162.28125  118.465833   \n",
       "51     0.500002     1   9999  393.8125  97131.33594  118.465833   \n",
       "52     0.500002     1   9999  393.8125  97148.36719  118.465833   \n",
       "53     0.500002     1   9999  393.8125  97096.20313  118.465833   \n",
       "...         ...   ...    ...       ...          ...         ...   \n",
       "17469  0.500002     1   9999  393.8125  97934.85156    5.750278   \n",
       "17470  0.500002     1   9999  393.8125  97929.92188    5.750278   \n",
       "17471  0.500002     1   9999  393.8125  97962.66406    5.750278   \n",
       "17472  0.500002     1   9999  393.8125  97913.53125    5.750278   \n",
       "17473  0.500002     1   9999  393.8125  97889.72656    5.750278   \n",
       "\n",
       "                CRTN_TM     OT_pred     n_mape  \n",
       "49      2022-09-30 9:00  228.500687   5.038226  \n",
       "50      2022-09-29 9:00  161.545593   1.972516  \n",
       "51      2022-10-01 3:00   68.721741   2.277660  \n",
       "52     2022-09-29 21:00  229.032272   5.062566  \n",
       "53     2022-09-30 21:00   97.481735   0.960810  \n",
       "...                 ...         ...        ...  \n",
       "17469   2022-12-31 9:00    0.000000   0.263291  \n",
       "17470   2022-12-30 9:00  280.230133  12.567759  \n",
       "17471  2022-12-31 15:00    0.000000   0.263291  \n",
       "17472   2022-12-30 3:00  179.239960   7.943667  \n",
       "17473  2022-12-30 15:00  160.210587   7.072358  \n",
       "\n",
       "[8203 rows x 142 columns]"
      ]
     },
     "execution_count": 80,
     "metadata": {},
     "output_type": "execute_result"
    }
   ],
   "source": [
    "test_df"
   ]
  }
 ],
 "metadata": {
  "kernelspec": {
   "display_name": "tensorflow",
   "language": "python",
   "name": "tensorflow"
  },
  "language_info": {
   "codemirror_mode": {
    "name": "ipython",
    "version": 3
   },
   "file_extension": ".py",
   "mimetype": "text/x-python",
   "name": "python",
   "nbconvert_exporter": "python",
   "pygments_lexer": "ipython3",
   "version": "3.8.8"
  }
 },
 "nbformat": 4,
 "nbformat_minor": 5
}
