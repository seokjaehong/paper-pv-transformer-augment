{
 "cells": [
  {
   "cell_type": "code",
   "execution_count": 68,
   "id": "626b4550-9f37-469b-a4d2-2dfca53a89de",
   "metadata": {
    "execution": {
     "iopub.execute_input": "2023-02-20T02:16:50.302889Z",
     "iopub.status.busy": "2023-02-20T02:16:50.302778Z",
     "iopub.status.idle": "2023-02-20T02:16:51.752352Z",
     "shell.execute_reply": "2023-02-20T02:16:51.751935Z",
     "shell.execute_reply.started": "2023-02-20T02:16:50.302856Z"
    }
   },
   "outputs": [],
   "source": [
    "import pandas as pd\n",
    "import os\n",
    "import numpy as np\n",
    "from tqdm.notebook import tqdm_notebook\n",
    "import random as rn\n",
    "\n",
    "from tensorflow import keras\n",
    "import tensorflow as tf\n",
    "from tensorflow.keras import layers\n",
    "from tensorflow.keras.models import Model\n",
    "from tensorflow.keras.utils import plot_model\n",
    "\n",
    "\n",
    "rn.seed(42)\n",
    "np.random.seed(42)\n",
    "\n",
    "tf.random.set_seed(42)"
   ]
  },
  {
   "cell_type": "code",
   "execution_count": 69,
   "id": "64a76c5d-ef95-45fc-9c2b-1d0ed2db612f",
   "metadata": {
    "execution": {
     "iopub.execute_input": "2023-02-20T02:16:51.753121Z",
     "iopub.status.busy": "2023-02-20T02:16:51.752984Z",
     "iopub.status.idle": "2023-02-20T02:16:51.755357Z",
     "shell.execute_reply": "2023-02-20T02:16:51.755110Z",
     "shell.execute_reply.started": "2023-02-20T02:16:51.753109Z"
    }
   },
   "outputs": [],
   "source": [
    "os.environ['TF_CPP_MIN_LOG_LEVEL'] = \"3\"\n",
    "os.environ[\"CUDA_VISIBLE_DEVICES\"] = \"0\""
   ]
  },
  {
   "cell_type": "code",
   "execution_count": 70,
   "id": "20381af4-7e0a-44b8-9b1d-fcc12996760d",
   "metadata": {
    "execution": {
     "iopub.execute_input": "2023-02-20T02:16:51.756209Z",
     "iopub.status.busy": "2023-02-20T02:16:51.756093Z",
     "iopub.status.idle": "2023-02-20T02:16:52.161033Z",
     "shell.execute_reply": "2023-02-20T02:16:52.160616Z",
     "shell.execute_reply.started": "2023-02-20T02:16:51.756197Z"
    }
   },
   "outputs": [
    {
     "name": "stdout",
     "output_type": "stream",
     "text": [
      "[name: \"/device:CPU:0\"\n",
      "device_type: \"CPU\"\n",
      "memory_limit: 268435456\n",
      "locality {\n",
      "}\n",
      "incarnation: 9272705433010831389\n",
      "xla_global_id: -1\n",
      "]\n"
     ]
    }
   ],
   "source": [
    "from tensorflow.python.client import device_lib\n",
    "\n",
    "print(device_lib.list_local_devices())"
   ]
  },
  {
   "cell_type": "code",
   "execution_count": 7,
   "id": "8a02d501",
   "metadata": {},
   "outputs": [],
   "source": [
    "# import pandas as pd \n",
    "# df = pd.read_csv(\"clean_dataset/s1_case1.csv\")\n",
    "# nwp_cols=\"lead_hr,NDNSW,SWDIR,SWDIF,TDSWS,NDNLW,OULWT,DLWS,HPBLA,HFSOIL,LLRIB,UGRD,VGRD,HFSFC,XBLWS,YBLWS,LHTFL,TMP,TMIN,TMAX,SPFH,TOMFS,RH,VIS,DPT,15TL,15QT,VISIP,SHFLT-1,SHFLT-2,SHFLT-3,SHFLT-4,SHFLT-5,SHFLT-6,SHFLT-7,SHFLT-8,HTBM,NETTL-1,NETTL-2,NETTL-3,NETTL-4,NETTL-5,NETTL-6,NETTL-7,NETTL-8,STOT-1,STOT-2,STOT-3,STOT-4,STOT-5,STOT-6,STOT-7,STOT-8,STOT-9,T15T-1,T15T-2,T15T-3,T15T-4,T15T-8,SH15-1,SH15-2,SH15-3,SH15-4,SH15-8,STCP-1,STCP-2,STCP-3,STCP-4,MAXGUST,CBLT,SNOM,SMCL-1,SMCL-2,SMCL-3,SMCL-4,TSOIL-1,TSOIL-2,TSOIL-3,TSOIL-4,ROFR,SROFR,VLCDC,LCDC,MCDC,HCDC,TCAR,TCAM,LCB,TCTH,50MU-min,50MV-min,50MU-max,50MV-max,PRMSL,SNOAL,TMP-SFC,HPBL,PRES\"\n",
    "# nwp_cols = nwp_cols.split(',')\n",
    "# output_col = [\"OT\"]\n",
    "# FCST_cols =['date']\n",
    "# # CRTN_cols = ['CRTN_TM']\n",
    "# all_cols = FCST_cols+nwp_cols+output_col\n",
    "# tmp_df= df[all_cols]\n",
    "\n",
    "# tmp_df.date = pd.to_datetime(tmp_df.date)\n",
    "\n",
    "# # case1 \n",
    "# case11_df= tmp_df.copy()\n",
    "# case11_df=case11_df[case11_df['lead_hr']!=0]\n",
    "# # case11_df=case11_df.drop(columns=['CRTN_TM'])\n",
    "# case11_df.reset_index(inplace=True)\n",
    "# case11_df=case11_df.drop(columns=['index'])"
   ]
  },
  {
   "cell_type": "code",
   "execution_count": 71,
   "id": "5044e2fb",
   "metadata": {},
   "outputs": [
    {
     "data": {
      "text/plain": [
       "98"
      ]
     },
     "execution_count": 71,
     "metadata": {},
     "output_type": "execute_result"
    }
   ],
   "source": [
    "len(nwp_cols)"
   ]
  },
  {
   "cell_type": "code",
   "execution_count": 81,
   "id": "4016f9c9-c6a5-432a-8ef1-8699f7186b73",
   "metadata": {
    "execution": {
     "iopub.execute_input": "2023-02-20T02:16:52.161656Z",
     "iopub.status.busy": "2023-02-20T02:16:52.161535Z",
     "iopub.status.idle": "2023-02-20T02:16:52.164197Z",
     "shell.execute_reply": "2023-02-20T02:16:52.163943Z",
     "shell.execute_reply.started": "2023-02-20T02:16:52.161643Z"
    },
    "tags": []
   },
   "outputs": [],
   "source": [
    "import pandas as pd \n",
    "df = pd.read_csv(\"clean_dataset/s1_case1.csv\")\n",
    "nwp_cols=\"lead_hr,NDNSW,SWDIR,SWDIF,TDSWS,NDNLW,OULWT,DLWS,HPBLA,HFSOIL,LLRIB,UGRD,VGRD,HFSFC,XBLWS,YBLWS,LHTFL,TMP,TMIN,TMAX,SPFH,TOMFS,RH,VIS,DPT,15TL,15QT,VISIP,SHFLT-1,SHFLT-2,SHFLT-3,SHFLT-4,SHFLT-5,SHFLT-6,SHFLT-7,SHFLT-8,HTBM,NETTL-1,NETTL-2,NETTL-3,NETTL-4,NETTL-5,NETTL-6,NETTL-7,NETTL-8,STOT-1,STOT-2,STOT-3,STOT-4,STOT-5,STOT-6,STOT-7,STOT-8,STOT-9,T15T-1,T15T-2,T15T-3,T15T-4,T15T-8,SH15-1,SH15-2,SH15-3,SH15-4,SH15-8,STCP-1,STCP-2,STCP-3,STCP-4,MAXGUST,CBLT,SNOM,SMCL-1,SMCL-2,SMCL-3,SMCL-4,TSOIL-1,TSOIL-2,TSOIL-3,TSOIL-4,ROFR,SROFR,VLCDC,LCDC,MCDC,HCDC,TCAR,TCAM,LCB,TCTH,50MU-min,50MV-min,50MU-max,50MV-max,PRMSL,SNOAL,TMP-SFC,HPBL,PRES\"\n",
    "nwp_cols = nwp_cols.split(',')\n",
    "output_col = [\"OT\"]\n",
    "FCST_cols =['date']\n",
    "# CRTN_cols = ['CRTN_TM']\n",
    "all_cols = FCST_cols+nwp_cols+output_col\n",
    "tmp_df= df[all_cols]\n",
    "\n",
    "tmp_df.date = pd.to_datetime(tmp_df.date)\n",
    "\n",
    "# case1 \n",
    "# case11_df= tmp_df.copy()\n",
    "# case11_df=case11_df[case11_df['lead_hr']!=0]\n",
    "# # case11_df=case11_df.drop(columns=['CRTN_TM'])\n",
    "# case11_df.reset_index(inplace=True)\n",
    "# case11_df=case11_df.drop(columns=['index'])\n",
    "\n",
    "\n",
    "# case2\n",
    "# tmp_df['day']=tmp_df.date.dt.day\n",
    "# case11_df= tmp_df.copy()\n",
    "# case11_df=case11_df[case11_df['lead_hr']!=0]\n",
    "# train_df = case11_df[case11_df['day']<=25]\n",
    "# test_df = case11_df[case11_df['day']>25]\n",
    "# case11_df = pd.concat([train_df,test_df])\n",
    "# case11_df=case11_df.drop(columns=['day'])\n",
    "# case11_df.reset_index(inplace=True)\n",
    "# case11_df=case11_df.drop(columns=['index'])\n",
    "\n",
    "# case3 \n",
    "case11_df= tmp_df.copy()\n",
    "case11_df=case11_df[case11_df['lead_hr']!=0]\n",
    "case11_df['month'] = case11_df.date.dt.month\n",
    "case11_df['day']=case11_df.date.dt.day\n",
    "test_df=case11_df[(case11_df['month'].isin([5,8,11,2]))&(case11_df['day'] > 12)]\n",
    "train_df=case11_df.drop(index=list(test_df.index))\n",
    "case11_df = pd.concat([train_df,test_df])\n",
    "case11_df=case11_df.drop(columns=['day','month'])\n",
    "case11_df.reset_index(inplace=True)\n",
    "case11_df=case11_df.drop(columns=['index'])\n"
   ]
  },
  {
   "cell_type": "code",
   "execution_count": 82,
   "id": "06a9b55d",
   "metadata": {},
   "outputs": [],
   "source": [
    "case11_df=case11_df.set_index(\"date\")"
   ]
  },
  {
   "cell_type": "code",
   "execution_count": 83,
   "id": "801701a9",
   "metadata": {},
   "outputs": [],
   "source": [
    "\n",
    "from sklearn.preprocessing import StandardScaler\n",
    "\n",
    "# sc = StandardScaler() \n",
    "# x = case11_df.drop(['OT'], axis=1).values # 독립변인들의 value값만 추출\n",
    "# y = case11_df['OT'].values # 종속변인 추출\n",
    "# x_std = sc.fit_transform(x) # standardizing the data\n",
    "# x_std_df= pd.DataFrame(x_std, columns=case11_df.columns)\n",
    "\n",
    "# case11_df=case11_df.reset_index()\n",
    "# case11_df=case11_df[['date','OT']]\n",
    "# case11_df=pd.merge(case11_df,x_std_df,how='inner',left_index=True,right_index=True)\n",
    "# case11_df.head()\n",
    "\n",
    "sc = StandardScaler()\n",
    "x = case11_df.values\n",
    "x_std = sc.fit_transform(x)\n",
    "x_std_df = pd.DataFrame(x_std, columns = case11_df.columns)\n",
    "\n",
    "case11_df = case11_df.reset_index()\n",
    "case11_df=case11_df.reset_index()\n",
    "case11_df=case11_df[['date']]\n",
    "case11_df=pd.merge(case11_df,x_std_df,how='inner',left_index=True,right_index=True)\n"
   ]
  },
  {
   "cell_type": "code",
   "execution_count": 84,
   "id": "e38be951",
   "metadata": {},
   "outputs": [],
   "source": [
    "all_len = len(case11_df)\n",
    "case11_df.date = pd.to_datetime(case11_df.date)\n",
    "# data = data[data.OT > 0]\n",
    "\n",
    "training_original_df = case11_df[:int(all_len*0.8)].reset_index(drop=True)\n",
    "test_original_df = case11_df[int(all_len*0.8):].reset_index(drop=True)\n",
    "# test_original_df=test_original_df[(test_original_df['date'].dt.hour>=7) &(test_original_df['date'].dt.hour<20)]\n",
    "test_original_df=test_original_df.reset_index(drop=True)\n",
    "\n",
    "training_df = training_original_df[FCST_cols+nwp_cols+output_col]\n",
    "\n",
    "train_X = training_df[nwp_cols].values\n",
    "train_y = training_df['OT'].values\n",
    "\n",
    "test_X = test_original_df[nwp_cols].values\n",
    "test_y = test_original_df['OT'].values\n",
    "test_df = test_original_df\n"
   ]
  },
  {
   "cell_type": "code",
   "execution_count": 85,
   "id": "9fbd5f8b",
   "metadata": {},
   "outputs": [],
   "source": [
    "train_X = train_X.reshape(-1, len(nwp_cols), 1)\n",
    "test_X = test_X.reshape(-1, len(nwp_cols), 1)\n",
    "\n",
    "train_y = train_y.reshape(-1, 1)\n",
    "test_y = test_y.reshape(-1, 1)"
   ]
  },
  {
   "cell_type": "code",
   "execution_count": 86,
   "id": "62621496",
   "metadata": {},
   "outputs": [],
   "source": [
    "initializer = tf.keras.initializers.GlorotUniform(seed=42)\n",
    "\n",
    "def jy_cnn_model(input_cols):\n",
    "    ## nwp model\n",
    "    mim_input1 = layers.Input(shape=(len(input_cols), 1))\n",
    "    # mim_out1 = layers.Conv1D(filters=32, kernel_size=3)(mim_input1)\n",
    "    # mim_out1 = layers.BatchNormalization()(mim_out1)\n",
    "    mim_out1 = layers.Conv1D(filters=16, kernel_size=3)(mim_input1)\n",
    "    mim_out1 = layers.BatchNormalization()(mim_out1)\n",
    "    mim_out1 = layers.Conv1D(filters=8, kernel_size=3)(mim_out1)\n",
    "    mim_out1 = layers.BatchNormalization()(mim_out1)\n",
    "    mim_out1 = layers.Conv1D(filters=4, kernel_size=3)(mim_out1)\n",
    "    mim_out1 = layers.BatchNormalization()(mim_out1)\n",
    "    mim_out1 = layers.Flatten()(mim_out1)\n",
    "\n",
    "    concatenated = layers.Dense(256, activation='relu')(mim_out1)\n",
    "    # concatenated = layers.Dropout(0.2)(concatenated)\n",
    "    concatenated = layers.BatchNormalization()(concatenated)\n",
    "    concatenated = layers.Dense(64, activation='relu')(concatenated)\n",
    "    concatenated = layers.BatchNormalization()(concatenated)\n",
    "    concatenated = layers.Dense(8, activation='relu')(concatenated)\n",
    "    concatenated = layers.BatchNormalization()(concatenated)\n",
    "    concat_out = layers.Dense(1, activation='linear')(concatenated)\n",
    "\n",
    "    concat_model = Model(mim_input1, concat_out)\n",
    "\n",
    "    return concat_model"
   ]
  },
  {
   "cell_type": "code",
   "execution_count": 87,
   "id": "936bbbd9",
   "metadata": {},
   "outputs": [],
   "source": [
    "## validation MAPE, RMSE 기준으로 EarlyStopping\n",
    "### input : patience\n",
    "class CustomEarlyStopping(tf.keras.callbacks.Callback):\n",
    "    def __init__(self, patience=0):\n",
    "        super(CustomEarlyStopping, self).__init__()\n",
    "        self.patience = patience\n",
    "        self.best_weights = None\n",
    "        \n",
    "    def on_train_begin(self, logs=None):\n",
    "        self.wait = 0\n",
    "        self.stopped_epoch = 0\n",
    "        self.best_v_mape = np.Inf\n",
    "        self.best_v_rmse = np.Inf\n",
    "\n",
    "    def on_epoch_end(self, epoch, logs=None): \n",
    "        v_mape=logs.get('val_mean_absolute_percentage_error')\n",
    "        v_rmse=logs.get('val_root_mean_squared_error')\n",
    "        # v_rmse = logs.get('val_myLoss')\n",
    "\n",
    "        if np.less(v_mape, self.best_v_mape) and np.less(v_rmse, self.best_v_rmse):\n",
    "            self.best_v_mape = v_mape\n",
    "            self.best_v_rmse = v_rmse\n",
    "            self.wait = 0\n",
    "            self.best_weights = self.model.get_weights()\n",
    "        else:\n",
    "            self.wait += 1\n",
    "            if self.wait >= self.patience:\n",
    "                self.stopped_epoch = epoch\n",
    "                self.model.stop_training = True\n",
    "                print(\"Restoring model weights from the end of the best epoch.\")\n",
    "                self.model.set_weights(self.best_weights)\n",
    "                \n",
    "    def on_train_end(self, logs=None):\n",
    "        if self.stopped_epoch > 0:\n",
    "            print(\"Epoch %05d: early stopping\" % (self.stopped_epoch + 1))\n"
   ]
  },
  {
   "cell_type": "code",
   "execution_count": 88,
   "id": "53265808",
   "metadata": {},
   "outputs": [
    {
     "name": "stdout",
     "output_type": "stream",
     "text": [
      "Model: \"model_7\"\n",
      "_________________________________________________________________\n",
      " Layer (type)                Output Shape              Param #   \n",
      "=================================================================\n",
      " input_8 (InputLayer)        [(None, 98, 1)]           0         \n",
      "                                                                 \n",
      " conv1d_21 (Conv1D)          (None, 96, 16)            64        \n",
      "                                                                 \n",
      " batch_normalization_42 (Bat  (None, 96, 16)           64        \n",
      " chNormalization)                                                \n",
      "                                                                 \n",
      " conv1d_22 (Conv1D)          (None, 94, 8)             392       \n",
      "                                                                 \n",
      " batch_normalization_43 (Bat  (None, 94, 8)            32        \n",
      " chNormalization)                                                \n",
      "                                                                 \n",
      " conv1d_23 (Conv1D)          (None, 92, 4)             100       \n",
      "                                                                 \n",
      " batch_normalization_44 (Bat  (None, 92, 4)            16        \n",
      " chNormalization)                                                \n",
      "                                                                 \n",
      " flatten_7 (Flatten)         (None, 368)               0         \n",
      "                                                                 \n",
      " dense_28 (Dense)            (None, 256)               94464     \n",
      "                                                                 \n",
      " batch_normalization_45 (Bat  (None, 256)              1024      \n",
      " chNormalization)                                                \n",
      "                                                                 \n",
      " dense_29 (Dense)            (None, 64)                16448     \n",
      "                                                                 \n",
      " batch_normalization_46 (Bat  (None, 64)               256       \n",
      " chNormalization)                                                \n",
      "                                                                 \n",
      " dense_30 (Dense)            (None, 8)                 520       \n",
      "                                                                 \n",
      " batch_normalization_47 (Bat  (None, 8)                32        \n",
      " chNormalization)                                                \n",
      "                                                                 \n",
      " dense_31 (Dense)            (None, 1)                 9         \n",
      "                                                                 \n",
      "=================================================================\n",
      "Total params: 113,421\n",
      "Trainable params: 112,709\n",
      "Non-trainable params: 712\n",
      "_________________________________________________________________\n",
      "You must install pydot (`pip install pydot`) and install graphviz (see instructions at https://graphviz.gitlab.io/download/) for plot_model to work.\n",
      "Epoch 1/1000\n",
      "215/215 - 5s - loss: 0.1442 - mean_absolute_percentage_error: 79.3472 - root_mean_squared_error: 0.3797 - val_loss: 0.1847 - val_mean_absolute_percentage_error: 81.1767 - val_root_mean_squared_error: 0.4297 - 5s/epoch - 24ms/step\n",
      "Epoch 2/1000\n",
      "215/215 - 3s - loss: 0.0840 - mean_absolute_percentage_error: 60.2111 - root_mean_squared_error: 0.2899 - val_loss: 0.1094 - val_mean_absolute_percentage_error: 84.1309 - val_root_mean_squared_error: 0.3307 - 3s/epoch - 13ms/step\n",
      "Epoch 3/1000\n",
      "215/215 - 3s - loss: 0.0715 - mean_absolute_percentage_error: 54.9037 - root_mean_squared_error: 0.2674 - val_loss: 0.1117 - val_mean_absolute_percentage_error: 94.6293 - val_root_mean_squared_error: 0.3342 - 3s/epoch - 13ms/step\n",
      "Epoch 4/1000\n",
      "215/215 - 3s - loss: 0.0661 - mean_absolute_percentage_error: 52.5118 - root_mean_squared_error: 0.2571 - val_loss: 0.1048 - val_mean_absolute_percentage_error: 82.3659 - val_root_mean_squared_error: 0.3237 - 3s/epoch - 13ms/step\n",
      "Epoch 5/1000\n",
      "215/215 - 3s - loss: 0.0625 - mean_absolute_percentage_error: 50.9587 - root_mean_squared_error: 0.2499 - val_loss: 0.1150 - val_mean_absolute_percentage_error: 90.5236 - val_root_mean_squared_error: 0.3391 - 3s/epoch - 13ms/step\n",
      "Epoch 6/1000\n",
      "215/215 - 3s - loss: 0.0600 - mean_absolute_percentage_error: 50.4543 - root_mean_squared_error: 0.2450 - val_loss: 0.1070 - val_mean_absolute_percentage_error: 83.9402 - val_root_mean_squared_error: 0.3270 - 3s/epoch - 13ms/step\n",
      "Epoch 7/1000\n",
      "215/215 - 3s - loss: 0.0569 - mean_absolute_percentage_error: 47.8917 - root_mean_squared_error: 0.2386 - val_loss: 0.1135 - val_mean_absolute_percentage_error: 78.7500 - val_root_mean_squared_error: 0.3369 - 3s/epoch - 13ms/step\n",
      "Epoch 8/1000\n",
      "215/215 - 3s - loss: 0.0525 - mean_absolute_percentage_error: 46.3677 - root_mean_squared_error: 0.2290 - val_loss: 0.1136 - val_mean_absolute_percentage_error: 89.3062 - val_root_mean_squared_error: 0.3371 - 3s/epoch - 13ms/step\n",
      "Epoch 9/1000\n",
      "215/215 - 3s - loss: 0.0499 - mean_absolute_percentage_error: 45.7712 - root_mean_squared_error: 0.2234 - val_loss: 0.1139 - val_mean_absolute_percentage_error: 82.3035 - val_root_mean_squared_error: 0.3374 - 3s/epoch - 13ms/step\n",
      "Epoch 10/1000\n",
      "215/215 - 3s - loss: 0.0491 - mean_absolute_percentage_error: 45.4510 - root_mean_squared_error: 0.2215 - val_loss: 0.1114 - val_mean_absolute_percentage_error: 82.4102 - val_root_mean_squared_error: 0.3337 - 3s/epoch - 13ms/step\n",
      "Epoch 11/1000\n",
      "215/215 - 3s - loss: 0.0474 - mean_absolute_percentage_error: 44.5359 - root_mean_squared_error: 0.2176 - val_loss: 0.1097 - val_mean_absolute_percentage_error: 73.4446 - val_root_mean_squared_error: 0.3313 - 3s/epoch - 13ms/step\n",
      "Epoch 12/1000\n",
      "215/215 - 3s - loss: 0.0445 - mean_absolute_percentage_error: 43.3253 - root_mean_squared_error: 0.2110 - val_loss: 0.1325 - val_mean_absolute_percentage_error: 99.0872 - val_root_mean_squared_error: 0.3641 - 3s/epoch - 13ms/step\n",
      "Epoch 13/1000\n",
      "215/215 - 3s - loss: 0.0452 - mean_absolute_percentage_error: 43.6323 - root_mean_squared_error: 0.2126 - val_loss: 0.1075 - val_mean_absolute_percentage_error: 76.1027 - val_root_mean_squared_error: 0.3279 - 3s/epoch - 13ms/step\n",
      "Epoch 14/1000\n",
      "215/215 - 3s - loss: 0.0423 - mean_absolute_percentage_error: 42.1692 - root_mean_squared_error: 0.2057 - val_loss: 0.1090 - val_mean_absolute_percentage_error: 86.4686 - val_root_mean_squared_error: 0.3301 - 3s/epoch - 13ms/step\n",
      "Epoch 15/1000\n",
      "215/215 - 3s - loss: 0.0415 - mean_absolute_percentage_error: 42.9492 - root_mean_squared_error: 0.2037 - val_loss: 0.1146 - val_mean_absolute_percentage_error: 76.7692 - val_root_mean_squared_error: 0.3385 - 3s/epoch - 13ms/step\n",
      "Epoch 16/1000\n",
      "215/215 - 3s - loss: 0.0410 - mean_absolute_percentage_error: 42.4559 - root_mean_squared_error: 0.2024 - val_loss: 0.0989 - val_mean_absolute_percentage_error: 68.6622 - val_root_mean_squared_error: 0.3145 - 3s/epoch - 13ms/step\n",
      "Epoch 17/1000\n",
      "215/215 - 3s - loss: 0.0396 - mean_absolute_percentage_error: 41.5605 - root_mean_squared_error: 0.1990 - val_loss: 0.1111 - val_mean_absolute_percentage_error: 80.5225 - val_root_mean_squared_error: 0.3333 - 3s/epoch - 13ms/step\n",
      "Epoch 18/1000\n",
      "215/215 - 3s - loss: 0.0398 - mean_absolute_percentage_error: 41.9265 - root_mean_squared_error: 0.1996 - val_loss: 0.1186 - val_mean_absolute_percentage_error: 77.9988 - val_root_mean_squared_error: 0.3444 - 3s/epoch - 13ms/step\n",
      "Epoch 19/1000\n",
      "215/215 - 3s - loss: 0.0378 - mean_absolute_percentage_error: 40.6523 - root_mean_squared_error: 0.1944 - val_loss: 0.1087 - val_mean_absolute_percentage_error: 89.3252 - val_root_mean_squared_error: 0.3297 - 3s/epoch - 15ms/step\n",
      "Epoch 20/1000\n",
      "215/215 - 3s - loss: 0.0371 - mean_absolute_percentage_error: 40.3175 - root_mean_squared_error: 0.1925 - val_loss: 0.1052 - val_mean_absolute_percentage_error: 76.8225 - val_root_mean_squared_error: 0.3243 - 3s/epoch - 16ms/step\n",
      "Epoch 21/1000\n",
      "215/215 - 3s - loss: 0.0353 - mean_absolute_percentage_error: 39.8096 - root_mean_squared_error: 0.1879 - val_loss: 0.1033 - val_mean_absolute_percentage_error: 76.9310 - val_root_mean_squared_error: 0.3214 - 3s/epoch - 14ms/step\n",
      "Epoch 22/1000\n",
      "215/215 - 3s - loss: 0.0358 - mean_absolute_percentage_error: 39.4195 - root_mean_squared_error: 0.1893 - val_loss: 0.1132 - val_mean_absolute_percentage_error: 73.2654 - val_root_mean_squared_error: 0.3365 - 3s/epoch - 14ms/step\n"
     ]
    },
    {
     "name": "stdout",
     "output_type": "stream",
     "text": [
      "Epoch 23/1000\n",
      "215/215 - 3s - loss: 0.0343 - mean_absolute_percentage_error: 39.5154 - root_mean_squared_error: 0.1852 - val_loss: 0.1137 - val_mean_absolute_percentage_error: 77.7211 - val_root_mean_squared_error: 0.3372 - 3s/epoch - 14ms/step\n",
      "Epoch 24/1000\n",
      "215/215 - 3s - loss: 0.0345 - mean_absolute_percentage_error: 38.7892 - root_mean_squared_error: 0.1856 - val_loss: 0.1071 - val_mean_absolute_percentage_error: 82.0875 - val_root_mean_squared_error: 0.3272 - 3s/epoch - 14ms/step\n",
      "Epoch 25/1000\n",
      "215/215 - 3s - loss: 0.0336 - mean_absolute_percentage_error: 38.8083 - root_mean_squared_error: 0.1833 - val_loss: 0.1069 - val_mean_absolute_percentage_error: 78.8932 - val_root_mean_squared_error: 0.3269 - 3s/epoch - 14ms/step\n",
      "Epoch 26/1000\n",
      "Restoring model weights from the end of the best epoch.\n",
      "215/215 - 3s - loss: 0.0331 - mean_absolute_percentage_error: 37.7989 - root_mean_squared_error: 0.1821 - val_loss: 0.1084 - val_mean_absolute_percentage_error: 76.6645 - val_root_mean_squared_error: 0.3292 - 3s/epoch - 14ms/step\n",
      "Epoch 00026: early stopping\n"
     ]
    },
    {
     "data": {
      "text/plain": [
       "<keras.callbacks.History at 0x1ca063db5b0>"
      ]
     },
     "execution_count": 88,
     "metadata": {},
     "output_type": "execute_result"
    }
   ],
   "source": [
    "## model define\n",
    "initializer = tf.keras.initializers.GlorotUniform(seed=42)\n",
    "model = jy_cnn_model(nwp_cols)\n",
    "model.summary()\n",
    "plot_model(model, to_file='cnn_graph.png')\n",
    "model.compile(optimizer='adam', loss=\"mse\", metrics=[tf.keras.losses.MeanAbsolutePercentageError(),tf.keras.metrics.RootMeanSquaredError()])\n",
    "\n",
    "from datetime import datetime\n",
    "start_dt = datetime.now()\n",
    "# model fit\n",
    "model.fit(train_X, train_y, \n",
    "          epochs=1000, batch_size=256,\n",
    "          callbacks=[CustomEarlyStopping(patience=10)],\n",
    "          validation_data=(test_X, test_y),\n",
    "          shuffle=True, verbose=2)\t# because of time-series\n"
   ]
  },
  {
   "cell_type": "code",
   "execution_count": 89,
   "id": "063395ac",
   "metadata": {},
   "outputs": [
    {
     "name": "stdout",
     "output_type": "stream",
     "text": [
      "430/430 [==============================] - 1s 2ms/step\n",
      "0.09891200392344526\n",
      "0.17261918917010569\n",
      "78.582328\n",
      "1.069329\n"
     ]
    }
   ],
   "source": [
    "# concat_model.save(\"convlstm_model_customloss\")\n",
    "model.save(\"jy_cnn_pv_case_1.h5\")\n",
    "test_start_dt = datetime.now()\n",
    "model = keras.models.load_model(\"jy_cnn_pv_case_1.h5\", compile=False)\n",
    "\n",
    "prediction = model.predict(test_X)\n",
    "\n",
    "# real_predictions = sc_y.inverse_transform(prediction)\n",
    "# real_predictions = prediction\n",
    "# real_predictions = real_predictions.reshape(real_predictions.shape[0]*real_predictions.shape[1])\n",
    "\n",
    "prediction_df = pd.DataFrame(prediction, columns=['OT_pred'])\n",
    "# prediction_df[prediction_df['adjust_pred']<0]=0\n",
    "# test_df=test_df.reset_index()\n",
    "test_df[\"OT_pred\"] = prediction_df\n",
    "\n",
    "\n",
    "from sklearn.metrics import mean_absolute_error,mean_squared_error\n",
    "mae=mean_absolute_error(test_df['OT'], test_df['OT_pred'])\n",
    "mse = mean_squared_error(test_df['OT'], test_df['OT_pred'])\n",
    "\n",
    "print(mse)\n",
    "print(mae)\n",
    "\n",
    "# print(start_dt.strftime('%Y-%m-%d %H:%M:%S'))\n",
    "print((test_start_dt- start_dt).total_seconds())\n",
    "print((datetime.now()-test_start_dt).total_seconds())"
   ]
  },
  {
   "cell_type": "code",
   "execution_count": null,
   "id": "30abb5e1",
   "metadata": {},
   "outputs": [],
   "source": []
  },
  {
   "cell_type": "code",
   "execution_count": null,
   "id": "6298dec6",
   "metadata": {},
   "outputs": [],
   "source": []
  },
  {
   "cell_type": "code",
   "execution_count": null,
   "id": "649d2e71",
   "metadata": {},
   "outputs": [],
   "source": []
  },
  {
   "cell_type": "code",
   "execution_count": null,
   "id": "40229dc6",
   "metadata": {},
   "outputs": [],
   "source": []
  },
  {
   "cell_type": "code",
   "execution_count": null,
   "id": "93c272c4",
   "metadata": {},
   "outputs": [],
   "source": []
  },
  {
   "cell_type": "markdown",
   "id": "eb0fd7b1",
   "metadata": {},
   "source": [
    "# 원본"
   ]
  },
  {
   "cell_type": "code",
   "execution_count": 138,
   "id": "0941a9e2",
   "metadata": {},
   "outputs": [],
   "source": [
    "# data.CRTN_TM = pd.to_datetime(data.CRTN_TM)\n",
    "data.date = pd.to_datetime(data.date)\n",
    "data = data[data.OT > 0]\n",
    "\n",
    "training_original_df = data[data.date < '2022-10-01 00:00:00'].reset_index(drop=True)\n",
    "test_original_df = data[data.date >= '2022-10-01 00:00:00'].reset_index(drop=True)\n",
    "\n",
    "training_df = training_original_df[all_cols]\n",
    "\n",
    "train_X = training_df[nwp_cols].values\n",
    "train_y = training_df[['OT']].values\n",
    "\n",
    "# case1\n",
    "# test_original_df=test_original_df[test_original_df['lead_hr']<6]\n",
    "\n",
    "test_X = test_original_df[nwp_cols].values\n",
    "test_y = test_original_df[['OT']].values\n",
    "test_df = test_original_df"
   ]
  },
  {
   "cell_type": "code",
   "execution_count": 141,
   "id": "fc871662-298d-45d2-8101-699849e7592f",
   "metadata": {
    "execution": {
     "iopub.execute_input": "2023-02-20T02:17:15.835590Z",
     "iopub.status.busy": "2023-02-20T02:17:15.835486Z",
     "iopub.status.idle": "2023-02-20T02:17:17.038611Z",
     "shell.execute_reply": "2023-02-20T02:17:17.038210Z",
     "shell.execute_reply.started": "2023-02-20T02:17:15.835578Z"
    }
   },
   "outputs": [],
   "source": [
    "# from sklearn.preprocessing import MinMaxScaler\n",
    "\n",
    "# sc_x1 = MinMaxScaler()\n",
    "# train_X = sc_x1.fit_transform(train_X)\n",
    "# test_X = sc_x1.transform(test_X)\n",
    "\n",
    "# sc_y = MinMaxScaler()\n",
    "# train_y = sc_y.fit_transform(train_y)\n",
    "# test_y = sc_y.transform(test_y)\n",
    "\n",
    "from sklearn.preprocessing import StandardScaler\n",
    "sc_x1 = StandardScaler()\n",
    "train_X = sc_x1.fit_transform(train_X)\n",
    "test_X = sc_x1.transform(test_X)\n",
    "\n",
    "sc_y = StandardScaler()\n",
    "train_y = sc_y.fit_transform(train_y)\n",
    "test_y = sc_y.transform(test_y)"
   ]
  },
  {
   "cell_type": "code",
   "execution_count": 142,
   "id": "bdd1addc-8e6e-4d8a-b5a3-45de4d79fc67",
   "metadata": {
    "execution": {
     "iopub.execute_input": "2023-02-20T02:17:17.039302Z",
     "iopub.status.busy": "2023-02-20T02:17:17.039187Z",
     "iopub.status.idle": "2023-02-20T02:17:17.041912Z",
     "shell.execute_reply": "2023-02-20T02:17:17.041646Z",
     "shell.execute_reply.started": "2023-02-20T02:17:17.039289Z"
    },
    "tags": []
   },
   "outputs": [],
   "source": [
    "train_X = train_X.reshape(-1, len(nwp_cols), 1)\n",
    "test_X = test_X.reshape(-1, len(nwp_cols), 1)\n",
    "\n",
    "train_y = train_y.reshape(-1, 1)\n",
    "test_y = test_y.reshape(-1, 1)"
   ]
  },
  {
   "cell_type": "code",
   "execution_count": 143,
   "id": "a966d0e9-f999-42e7-a5ae-16a43dc793a8",
   "metadata": {
    "execution": {
     "iopub.execute_input": "2023-02-20T02:17:17.042456Z",
     "iopub.status.busy": "2023-02-20T02:17:17.042368Z",
     "iopub.status.idle": "2023-02-20T02:17:17.050077Z",
     "shell.execute_reply": "2023-02-20T02:17:17.049784Z",
     "shell.execute_reply.started": "2023-02-20T02:17:17.042444Z"
    },
    "tags": []
   },
   "outputs": [
    {
     "data": {
      "text/plain": [
       "(24440, 137, 1)"
      ]
     },
     "execution_count": 143,
     "metadata": {},
     "output_type": "execute_result"
    }
   ],
   "source": [
    "train_X.shape"
   ]
  },
  {
   "cell_type": "code",
   "execution_count": 144,
   "id": "76b78dd8-ad7b-407b-ae3e-705714b963bf",
   "metadata": {
    "execution": {
     "iopub.execute_input": "2023-02-20T02:17:17.050679Z",
     "iopub.status.busy": "2023-02-20T02:17:17.050570Z",
     "iopub.status.idle": "2023-02-20T02:17:17.053550Z",
     "shell.execute_reply": "2023-02-20T02:17:17.053181Z",
     "shell.execute_reply.started": "2023-02-20T02:17:17.050667Z"
    },
    "tags": []
   },
   "outputs": [
    {
     "data": {
      "text/plain": [
       "(8023, 137, 1)"
      ]
     },
     "execution_count": 144,
     "metadata": {},
     "output_type": "execute_result"
    }
   ],
   "source": [
    "test_X.shape"
   ]
  },
  {
   "cell_type": "code",
   "execution_count": 145,
   "id": "5d688b0d-9452-47ec-ab0b-1a2c26b66099",
   "metadata": {
    "execution": {
     "iopub.execute_input": "2023-02-20T02:17:17.054397Z",
     "iopub.status.busy": "2023-02-20T02:17:17.054131Z",
     "iopub.status.idle": "2023-02-20T02:17:17.058831Z",
     "shell.execute_reply": "2023-02-20T02:17:17.058531Z",
     "shell.execute_reply.started": "2023-02-20T02:17:17.054384Z"
    },
    "tags": []
   },
   "outputs": [
    {
     "data": {
      "text/plain": [
       "(24440, 1)"
      ]
     },
     "execution_count": 145,
     "metadata": {},
     "output_type": "execute_result"
    }
   ],
   "source": [
    "train_y.shape"
   ]
  },
  {
   "cell_type": "code",
   "execution_count": 146,
   "id": "cc5147c9-f333-4499-8880-5baa9e908b1b",
   "metadata": {
    "execution": {
     "iopub.execute_input": "2023-02-20T02:17:17.059337Z",
     "iopub.status.busy": "2023-02-20T02:17:17.059250Z",
     "iopub.status.idle": "2023-02-20T02:17:17.062251Z",
     "shell.execute_reply": "2023-02-20T02:17:17.062014Z",
     "shell.execute_reply.started": "2023-02-20T02:17:17.059326Z"
    },
    "tags": []
   },
   "outputs": [
    {
     "data": {
      "text/plain": [
       "(8023, 1)"
      ]
     },
     "execution_count": 146,
     "metadata": {},
     "output_type": "execute_result"
    }
   ],
   "source": [
    "test_y.shape"
   ]
  },
  {
   "cell_type": "code",
   "execution_count": 147,
   "id": "c00a1616-5757-43c1-9a31-b38eab67875c",
   "metadata": {
    "execution": {
     "iopub.execute_input": "2023-02-20T02:17:17.063438Z",
     "iopub.status.busy": "2023-02-20T02:17:17.063315Z",
     "iopub.status.idle": "2023-02-20T02:17:17.067649Z",
     "shell.execute_reply": "2023-02-20T02:17:17.067394Z",
     "shell.execute_reply.started": "2023-02-20T02:17:17.063411Z"
    },
    "tags": []
   },
   "outputs": [],
   "source": [
    "initializer = tf.keras.initializers.GlorotUniform(seed=42)\n",
    "\n",
    "def jy_cnn_model(input_cols):\n",
    "    ## nwp model\n",
    "    mim_input1 = layers.Input(shape=(len(input_cols), 1))\n",
    "    # mim_out1 = layers.Conv1D(filters=32, kernel_size=3)(mim_input1)\n",
    "    # mim_out1 = layers.BatchNormalization()(mim_out1)\n",
    "    mim_out1 = layers.Conv1D(filters=16, kernel_size=3)(mim_input1)\n",
    "    mim_out1 = layers.BatchNormalization()(mim_out1)\n",
    "    mim_out1 = layers.Conv1D(filters=8, kernel_size=3)(mim_out1)\n",
    "    mim_out1 = layers.BatchNormalization()(mim_out1)\n",
    "    mim_out1 = layers.Conv1D(filters=4, kernel_size=3)(mim_out1)\n",
    "    mim_out1 = layers.BatchNormalization()(mim_out1)\n",
    "    mim_out1 = layers.Flatten()(mim_out1)\n",
    "\n",
    "    concatenated = layers.Dense(256, activation='relu')(mim_out1)\n",
    "    # concatenated = layers.Dropout(0.2)(concatenated)\n",
    "    concatenated = layers.BatchNormalization()(concatenated)\n",
    "    concatenated = layers.Dense(64, activation='relu')(concatenated)\n",
    "    concatenated = layers.BatchNormalization()(concatenated)\n",
    "    concatenated = layers.Dense(8, activation='relu')(concatenated)\n",
    "    concatenated = layers.BatchNormalization()(concatenated)\n",
    "    concat_out = layers.Dense(1, activation='linear')(concatenated)\n",
    "\n",
    "    concat_model = Model(mim_input1, concat_out)\n",
    "\n",
    "    return concat_model"
   ]
  },
  {
   "cell_type": "code",
   "execution_count": 148,
   "id": "bf44396d-2eae-4866-a457-b697aea8e304",
   "metadata": {
    "execution": {
     "iopub.execute_input": "2023-02-20T02:17:17.068193Z",
     "iopub.status.busy": "2023-02-20T02:17:17.068104Z",
     "iopub.status.idle": "2023-02-20T02:17:17.073568Z",
     "shell.execute_reply": "2023-02-20T02:17:17.073218Z",
     "shell.execute_reply.started": "2023-02-20T02:17:17.068182Z"
    },
    "tags": []
   },
   "outputs": [],
   "source": [
    "## validation MAPE, RMSE 기준으로 EarlyStopping\n",
    "### input : patience\n",
    "class CustomEarlyStopping(tf.keras.callbacks.Callback):\n",
    "    def __init__(self, patience=0):\n",
    "        super(CustomEarlyStopping, self).__init__()\n",
    "        self.patience = patience\n",
    "        self.best_weights = None\n",
    "        \n",
    "    def on_train_begin(self, logs=None):\n",
    "        self.wait = 0\n",
    "        self.stopped_epoch = 0\n",
    "        self.best_v_mape = np.Inf\n",
    "        self.best_v_rmse = np.Inf\n",
    "\n",
    "    def on_epoch_end(self, epoch, logs=None): \n",
    "        v_mape=logs.get('val_mean_absolute_percentage_error')\n",
    "        v_rmse=logs.get('val_root_mean_squared_error')\n",
    "        # v_rmse = logs.get('val_myLoss')\n",
    "\n",
    "        if np.less(v_mape, self.best_v_mape) and np.less(v_rmse, self.best_v_rmse):\n",
    "            self.best_v_mape = v_mape\n",
    "            self.best_v_rmse = v_rmse\n",
    "            self.wait = 0\n",
    "            self.best_weights = self.model.get_weights()\n",
    "        else:\n",
    "            self.wait += 1\n",
    "            if self.wait >= self.patience:\n",
    "                self.stopped_epoch = epoch\n",
    "                self.model.stop_training = True\n",
    "                print(\"Restoring model weights from the end of the best epoch.\")\n",
    "                self.model.set_weights(self.best_weights)\n",
    "                \n",
    "    def on_train_end(self, logs=None):\n",
    "        if self.stopped_epoch > 0:\n",
    "            print(\"Epoch %05d: early stopping\" % (self.stopped_epoch + 1))\n"
   ]
  },
  {
   "cell_type": "code",
   "execution_count": 149,
   "id": "07bb2d67-bdc7-4d0e-bca5-ad4d9c896904",
   "metadata": {
    "execution": {
     "iopub.execute_input": "2023-02-20T02:17:17.074020Z",
     "iopub.status.busy": "2023-02-20T02:17:17.073932Z",
     "iopub.status.idle": "2023-02-20T02:20:17.878902Z",
     "shell.execute_reply": "2023-02-20T02:20:17.878628Z",
     "shell.execute_reply.started": "2023-02-20T02:17:17.074008Z"
    },
    "tags": []
   },
   "outputs": [
    {
     "name": "stdout",
     "output_type": "stream",
     "text": [
      "Model: \"model_6\"\n",
      "_________________________________________________________________\n",
      " Layer (type)                Output Shape              Param #   \n",
      "=================================================================\n",
      " input_7 (InputLayer)        [(None, 137, 1)]          0         \n",
      "                                                                 \n",
      " conv1d_18 (Conv1D)          (None, 135, 16)           64        \n",
      "                                                                 \n",
      " batch_normalization_36 (Bat  (None, 135, 16)          64        \n",
      " chNormalization)                                                \n",
      "                                                                 \n",
      " conv1d_19 (Conv1D)          (None, 133, 8)            392       \n",
      "                                                                 \n",
      " batch_normalization_37 (Bat  (None, 133, 8)           32        \n",
      " chNormalization)                                                \n",
      "                                                                 \n",
      " conv1d_20 (Conv1D)          (None, 131, 4)            100       \n",
      "                                                                 \n",
      " batch_normalization_38 (Bat  (None, 131, 4)           16        \n",
      " chNormalization)                                                \n",
      "                                                                 \n",
      " flatten_6 (Flatten)         (None, 524)               0         \n",
      "                                                                 \n",
      " dense_24 (Dense)            (None, 256)               134400    \n",
      "                                                                 \n",
      " batch_normalization_39 (Bat  (None, 256)              1024      \n",
      " chNormalization)                                                \n",
      "                                                                 \n",
      " dense_25 (Dense)            (None, 64)                16448     \n",
      "                                                                 \n",
      " batch_normalization_40 (Bat  (None, 64)               256       \n",
      " chNormalization)                                                \n",
      "                                                                 \n",
      " dense_26 (Dense)            (None, 8)                 520       \n",
      "                                                                 \n",
      " batch_normalization_41 (Bat  (None, 8)                32        \n",
      " chNormalization)                                                \n",
      "                                                                 \n",
      " dense_27 (Dense)            (None, 1)                 9         \n",
      "                                                                 \n",
      "=================================================================\n",
      "Total params: 153,357\n",
      "Trainable params: 152,645\n",
      "Non-trainable params: 712\n",
      "_________________________________________________________________\n",
      "You must install pydot (`pip install pydot`) and install graphviz (see instructions at https://graphviz.gitlab.io/download/) for plot_model to work.\n",
      "Epoch 1/1000\n",
      "96/96 - 4s - loss: 0.2103 - mean_absolute_percentage_error: 127.5464 - root_mean_squared_error: 0.4586 - val_loss: 0.3686 - val_mean_absolute_percentage_error: 102.3779 - val_root_mean_squared_error: 0.6071 - 4s/epoch - 39ms/step\n",
      "Epoch 2/1000\n",
      "96/96 - 2s - loss: 0.1299 - mean_absolute_percentage_error: 102.8701 - root_mean_squared_error: 0.3604 - val_loss: 0.2722 - val_mean_absolute_percentage_error: 105.5427 - val_root_mean_squared_error: 0.5218 - 2s/epoch - 17ms/step\n",
      "Epoch 3/1000\n",
      "96/96 - 2s - loss: 0.1136 - mean_absolute_percentage_error: 98.2718 - root_mean_squared_error: 0.3370 - val_loss: 0.2231 - val_mean_absolute_percentage_error: 109.6313 - val_root_mean_squared_error: 0.4723 - 2s/epoch - 17ms/step\n",
      "Epoch 4/1000\n",
      "96/96 - 2s - loss: 0.1043 - mean_absolute_percentage_error: 94.2733 - root_mean_squared_error: 0.3230 - val_loss: 0.1937 - val_mean_absolute_percentage_error: 114.3862 - val_root_mean_squared_error: 0.4402 - 2s/epoch - 17ms/step\n",
      "Epoch 5/1000\n",
      "96/96 - 2s - loss: 0.0949 - mean_absolute_percentage_error: 90.2602 - root_mean_squared_error: 0.3080 - val_loss: 0.2039 - val_mean_absolute_percentage_error: 123.9808 - val_root_mean_squared_error: 0.4516 - 2s/epoch - 17ms/step\n",
      "Epoch 6/1000\n",
      "96/96 - 2s - loss: 0.0901 - mean_absolute_percentage_error: 88.3216 - root_mean_squared_error: 0.3002 - val_loss: 0.1943 - val_mean_absolute_percentage_error: 139.1276 - val_root_mean_squared_error: 0.4408 - 2s/epoch - 17ms/step\n",
      "Epoch 7/1000\n",
      "96/96 - 2s - loss: 0.0822 - mean_absolute_percentage_error: 85.5872 - root_mean_squared_error: 0.2868 - val_loss: 0.1971 - val_mean_absolute_percentage_error: 137.3851 - val_root_mean_squared_error: 0.4439 - 2s/epoch - 17ms/step\n",
      "Epoch 8/1000\n",
      "96/96 - 2s - loss: 0.0792 - mean_absolute_percentage_error: 85.9179 - root_mean_squared_error: 0.2815 - val_loss: 0.1933 - val_mean_absolute_percentage_error: 135.2481 - val_root_mean_squared_error: 0.4396 - 2s/epoch - 17ms/step\n",
      "Epoch 9/1000\n",
      "96/96 - 2s - loss: 0.0744 - mean_absolute_percentage_error: 83.1567 - root_mean_squared_error: 0.2728 - val_loss: 0.2348 - val_mean_absolute_percentage_error: 165.8283 - val_root_mean_squared_error: 0.4846 - 2s/epoch - 17ms/step\n",
      "Epoch 10/1000\n",
      "96/96 - 2s - loss: 0.0717 - mean_absolute_percentage_error: 79.2597 - root_mean_squared_error: 0.2677 - val_loss: 0.2292 - val_mean_absolute_percentage_error: 163.8302 - val_root_mean_squared_error: 0.4787 - 2s/epoch - 17ms/step\n",
      "Epoch 11/1000\n",
      "Restoring model weights from the end of the best epoch.\n",
      "96/96 - 2s - loss: 0.0692 - mean_absolute_percentage_error: 79.5341 - root_mean_squared_error: 0.2631 - val_loss: 0.2297 - val_mean_absolute_percentage_error: 158.5424 - val_root_mean_squared_error: 0.4793 - 2s/epoch - 17ms/step\n",
      "Epoch 00011: early stopping\n"
     ]
    },
    {
     "data": {
      "text/plain": [
       "<keras.callbacks.History at 0x1dd0b7a9d80>"
      ]
     },
     "execution_count": 149,
     "metadata": {},
     "output_type": "execute_result"
    }
   ],
   "source": [
    "## model define\n",
    "initializer = tf.keras.initializers.GlorotUniform(seed=42)\n",
    "model = jy_cnn_model(nwp_cols)\n",
    "model.summary()\n",
    "plot_model(model, to_file='cnn_graph.png')\n",
    "model.compile(optimizer='adam', loss=\"mse\", metrics=[tf.keras.losses.MeanAbsolutePercentageError(),tf.keras.metrics.RootMeanSquaredError()])\n",
    "\n",
    "# model fit\n",
    "model.fit(train_X, train_y, \n",
    "          epochs=1000, batch_size=256,\n",
    "          callbacks=[CustomEarlyStopping(patience=10)],\n",
    "          validation_data=(test_X, test_y),\n",
    "          shuffle=True, verbose=2)\t# because of time-series\n"
   ]
  },
  {
   "cell_type": "code",
   "execution_count": 150,
   "id": "665457ae-a21d-4ce7-8e3e-c462366e0e34",
   "metadata": {
    "execution": {
     "iopub.execute_input": "2023-02-20T02:20:17.879660Z",
     "iopub.status.busy": "2023-02-20T02:20:17.879561Z",
     "iopub.status.idle": "2023-02-20T02:20:25.178346Z",
     "shell.execute_reply": "2023-02-20T02:20:25.177989Z",
     "shell.execute_reply.started": "2023-02-20T02:20:17.879647Z"
    }
   },
   "outputs": [
    {
     "name": "stdout",
     "output_type": "stream",
     "text": [
      "251/251 [==============================] - 0s 1ms/step\n",
      "8023\n"
     ]
    }
   ],
   "source": [
    "# concat_model.save(\"convlstm_model_customloss\")\n",
    "model.save(\"jy_cnn_pv_case_1.h5\")\n",
    "model = keras.models.load_model(\"jy_cnn_pv_case_1.h5\", compile=False)\n",
    "# model.save(\"jy_cnn_pv_case_10.h5\")\n",
    "# model = keras.models.load_model(\"jy_cnn_pv_case_10.h5\", compile=False)\n",
    "prediction = model.predict(test_X)\n",
    "print(len(prediction))\n",
    "real_predictions = sc_y.inverse_transform(prediction)\n",
    "# real_predictions = prediction\n",
    "real_predictions = real_predictions.reshape(real_predictions.shape[0]*real_predictions.shape[1])\n",
    "\n",
    "prediction_df = pd.DataFrame(real_predictions, columns=['adjust_pred'])\n",
    "# prediction_df[prediction_df['adjust_pred']<0]=0\n",
    "test_df=test_df.reset_index()\n",
    "test_df[\"OT_pred\"] = prediction_df\n",
    "\n",
    "\n",
    "from sklearn.metrics import mean_absolute_error,mean_squared_error\n",
    "mae=mean_absolute_error(test_df['OT'], test_df['OT_pred'])\n",
    "mse = mean_squared_error(test_df['OT'], test_df['OT_pred'])\n",
    "\n",
    "print(mse,mae)\n",
    "test_df['n_mape'] = abs(test_df[\"OT\"] - test_df[\"OT_pred\"]) /2974.14 *100\n",
    "print(round(np.mean(test_df['n_mape']),2))\n"
   ]
  },
  {
   "cell_type": "code",
   "execution_count": 151,
   "id": "86cd664e",
   "metadata": {},
   "outputs": [
    {
     "name": "stdout",
     "output_type": "stream",
     "text": [
      "26954.00035272762 143.49889038602825\n",
      "4.82\n"
     ]
    }
   ],
   "source": [
    "prediction_df = pd.DataFrame(real_predictions, columns=['adjust_pred'])\n",
    "# prediction_df[prediction_df['adjust_pred']<0]=0\n",
    "test_df=test_df.reset_index()\n",
    "test_df[\"OT_pred\"] = prediction_df\n",
    "\n",
    "\n",
    "from sklearn.metrics import mean_absolute_error,mean_squared_error\n",
    "mae=mean_absolute_error(test_df['OT'], test_df['OT_pred'])\n",
    "mse = mean_squared_error(test_df['OT'], test_df['OT_pred'])\n",
    "\n",
    "print(mse,mae)\n",
    "test_df['n_mape'] = abs(test_df[\"OT\"] - test_df[\"OT_pred\"]) /2974.14 *100\n",
    "print(round(np.mean(test_df['n_mape']),2))"
   ]
  },
  {
   "cell_type": "code",
   "execution_count": 152,
   "id": "b6d360cc",
   "metadata": {},
   "outputs": [
    {
     "data": {
      "text/html": [
       "<div>\n",
       "<style scoped>\n",
       "    .dataframe tbody tr th:only-of-type {\n",
       "        vertical-align: middle;\n",
       "    }\n",
       "\n",
       "    .dataframe tbody tr th {\n",
       "        vertical-align: top;\n",
       "    }\n",
       "\n",
       "    .dataframe thead th {\n",
       "        text-align: right;\n",
       "    }\n",
       "</style>\n",
       "<table border=\"1\" class=\"dataframe\">\n",
       "  <thead>\n",
       "    <tr style=\"text-align: right;\">\n",
       "      <th></th>\n",
       "      <th>index</th>\n",
       "      <th>date</th>\n",
       "      <th>weight</th>\n",
       "      <th>NDNSW</th>\n",
       "      <th>SWDIR</th>\n",
       "      <th>SWDIF</th>\n",
       "      <th>TDSWS</th>\n",
       "      <th>NDNLW</th>\n",
       "      <th>OULWT</th>\n",
       "      <th>DLWS</th>\n",
       "      <th>...</th>\n",
       "      <th>TMP-SFC</th>\n",
       "      <th>HPBL</th>\n",
       "      <th>SFCR</th>\n",
       "      <th>LAND</th>\n",
       "      <th>FRICE</th>\n",
       "      <th>DIST</th>\n",
       "      <th>PRES</th>\n",
       "      <th>OT</th>\n",
       "      <th>OT_pred</th>\n",
       "      <th>n_mape</th>\n",
       "    </tr>\n",
       "  </thead>\n",
       "  <tbody>\n",
       "    <tr>\n",
       "      <th>0</th>\n",
       "      <td>0</td>\n",
       "      <td>2022-10-01 06:00:00</td>\n",
       "      <td>0.574468</td>\n",
       "      <td>0.000000</td>\n",
       "      <td>0.000000</td>\n",
       "      <td>0.000000</td>\n",
       "      <td>0.000000</td>\n",
       "      <td>0.532327</td>\n",
       "      <td>0.835980</td>\n",
       "      <td>0.491870</td>\n",
       "      <td>...</td>\n",
       "      <td>0.541377</td>\n",
       "      <td>0.019730</td>\n",
       "      <td>0.0</td>\n",
       "      <td>0.0</td>\n",
       "      <td>0.0</td>\n",
       "      <td>0.0</td>\n",
       "      <td>0.706541</td>\n",
       "      <td>39.831963</td>\n",
       "      <td>186.387756</td>\n",
       "      <td>4.927670</td>\n",
       "    </tr>\n",
       "    <tr>\n",
       "      <th>1</th>\n",
       "      <td>1</td>\n",
       "      <td>2022-10-01 06:00:00</td>\n",
       "      <td>0.063830</td>\n",
       "      <td>0.000000</td>\n",
       "      <td>0.000000</td>\n",
       "      <td>0.000000</td>\n",
       "      <td>0.000000</td>\n",
       "      <td>0.536627</td>\n",
       "      <td>0.832994</td>\n",
       "      <td>0.503716</td>\n",
       "      <td>...</td>\n",
       "      <td>0.539997</td>\n",
       "      <td>0.018390</td>\n",
       "      <td>0.0</td>\n",
       "      <td>0.0</td>\n",
       "      <td>0.0</td>\n",
       "      <td>0.0</td>\n",
       "      <td>0.709369</td>\n",
       "      <td>39.831963</td>\n",
       "      <td>191.849625</td>\n",
       "      <td>5.111315</td>\n",
       "    </tr>\n",
       "    <tr>\n",
       "      <th>2</th>\n",
       "      <td>2</td>\n",
       "      <td>2022-10-01 06:00:00</td>\n",
       "      <td>0.957447</td>\n",
       "      <td>0.000000</td>\n",
       "      <td>0.000000</td>\n",
       "      <td>0.000000</td>\n",
       "      <td>0.000000</td>\n",
       "      <td>0.524636</td>\n",
       "      <td>0.821927</td>\n",
       "      <td>0.445558</td>\n",
       "      <td>...</td>\n",
       "      <td>0.491327</td>\n",
       "      <td>0.018396</td>\n",
       "      <td>0.0</td>\n",
       "      <td>0.0</td>\n",
       "      <td>0.0</td>\n",
       "      <td>0.0</td>\n",
       "      <td>0.701391</td>\n",
       "      <td>39.831963</td>\n",
       "      <td>202.181625</td>\n",
       "      <td>5.458710</td>\n",
       "    </tr>\n",
       "    <tr>\n",
       "      <th>3</th>\n",
       "      <td>3</td>\n",
       "      <td>2022-10-01 06:00:00</td>\n",
       "      <td>0.319149</td>\n",
       "      <td>0.000000</td>\n",
       "      <td>0.000000</td>\n",
       "      <td>0.000000</td>\n",
       "      <td>0.000000</td>\n",
       "      <td>0.525929</td>\n",
       "      <td>0.833809</td>\n",
       "      <td>0.492077</td>\n",
       "      <td>...</td>\n",
       "      <td>0.545552</td>\n",
       "      <td>0.019730</td>\n",
       "      <td>0.0</td>\n",
       "      <td>0.0</td>\n",
       "      <td>0.0</td>\n",
       "      <td>0.0</td>\n",
       "      <td>0.705782</td>\n",
       "      <td>39.831963</td>\n",
       "      <td>186.520721</td>\n",
       "      <td>4.932140</td>\n",
       "    </tr>\n",
       "    <tr>\n",
       "      <th>4</th>\n",
       "      <td>4</td>\n",
       "      <td>2022-10-01 06:00:00</td>\n",
       "      <td>0.829787</td>\n",
       "      <td>0.000000</td>\n",
       "      <td>0.000000</td>\n",
       "      <td>0.000000</td>\n",
       "      <td>0.000000</td>\n",
       "      <td>0.499805</td>\n",
       "      <td>0.842314</td>\n",
       "      <td>0.456682</td>\n",
       "      <td>...</td>\n",
       "      <td>0.528047</td>\n",
       "      <td>0.019727</td>\n",
       "      <td>0.0</td>\n",
       "      <td>0.0</td>\n",
       "      <td>0.0</td>\n",
       "      <td>0.0</td>\n",
       "      <td>0.692333</td>\n",
       "      <td>39.831963</td>\n",
       "      <td>182.067200</td>\n",
       "      <td>4.782399</td>\n",
       "    </tr>\n",
       "    <tr>\n",
       "      <th>...</th>\n",
       "      <td>...</td>\n",
       "      <td>...</td>\n",
       "      <td>...</td>\n",
       "      <td>...</td>\n",
       "      <td>...</td>\n",
       "      <td>...</td>\n",
       "      <td>...</td>\n",
       "      <td>...</td>\n",
       "      <td>...</td>\n",
       "      <td>...</td>\n",
       "      <td>...</td>\n",
       "      <td>...</td>\n",
       "      <td>...</td>\n",
       "      <td>...</td>\n",
       "      <td>...</td>\n",
       "      <td>...</td>\n",
       "      <td>...</td>\n",
       "      <td>...</td>\n",
       "      <td>...</td>\n",
       "      <td>...</td>\n",
       "      <td>...</td>\n",
       "    </tr>\n",
       "    <tr>\n",
       "      <th>8018</th>\n",
       "      <td>8018</td>\n",
       "      <td>2022-12-31 17:00:00</td>\n",
       "      <td>0.851064</td>\n",
       "      <td>0.077559</td>\n",
       "      <td>0.037726</td>\n",
       "      <td>0.092485</td>\n",
       "      <td>0.077744</td>\n",
       "      <td>0.580357</td>\n",
       "      <td>0.630403</td>\n",
       "      <td>0.255734</td>\n",
       "      <td>...</td>\n",
       "      <td>0.236205</td>\n",
       "      <td>0.026563</td>\n",
       "      <td>0.0</td>\n",
       "      <td>0.0</td>\n",
       "      <td>0.0</td>\n",
       "      <td>0.0</td>\n",
       "      <td>0.908551</td>\n",
       "      <td>1.933425</td>\n",
       "      <td>143.896988</td>\n",
       "      <td>4.773264</td>\n",
       "    </tr>\n",
       "    <tr>\n",
       "      <th>8019</th>\n",
       "      <td>8019</td>\n",
       "      <td>2022-12-31 17:00:00</td>\n",
       "      <td>0.340426</td>\n",
       "      <td>0.050787</td>\n",
       "      <td>0.008975</td>\n",
       "      <td>0.090178</td>\n",
       "      <td>0.050803</td>\n",
       "      <td>0.791415</td>\n",
       "      <td>0.592571</td>\n",
       "      <td>0.417445</td>\n",
       "      <td>...</td>\n",
       "      <td>0.263265</td>\n",
       "      <td>0.197818</td>\n",
       "      <td>0.0</td>\n",
       "      <td>0.0</td>\n",
       "      <td>0.0</td>\n",
       "      <td>0.0</td>\n",
       "      <td>0.907280</td>\n",
       "      <td>1.933425</td>\n",
       "      <td>128.215424</td>\n",
       "      <td>4.246000</td>\n",
       "    </tr>\n",
       "    <tr>\n",
       "      <th>8020</th>\n",
       "      <td>8020</td>\n",
       "      <td>2022-12-31 17:00:00</td>\n",
       "      <td>0.978723</td>\n",
       "      <td>0.081687</td>\n",
       "      <td>0.043443</td>\n",
       "      <td>0.091914</td>\n",
       "      <td>0.081688</td>\n",
       "      <td>0.534587</td>\n",
       "      <td>0.641772</td>\n",
       "      <td>0.238940</td>\n",
       "      <td>...</td>\n",
       "      <td>0.253724</td>\n",
       "      <td>0.050291</td>\n",
       "      <td>0.0</td>\n",
       "      <td>0.0</td>\n",
       "      <td>0.0</td>\n",
       "      <td>0.0</td>\n",
       "      <td>0.915722</td>\n",
       "      <td>1.933425</td>\n",
       "      <td>115.291168</td>\n",
       "      <td>3.811446</td>\n",
       "    </tr>\n",
       "    <tr>\n",
       "      <th>8021</th>\n",
       "      <td>8021</td>\n",
       "      <td>2022-12-31 17:00:00</td>\n",
       "      <td>0.212766</td>\n",
       "      <td>0.068632</td>\n",
       "      <td>0.025098</td>\n",
       "      <td>0.097252</td>\n",
       "      <td>0.068637</td>\n",
       "      <td>0.652120</td>\n",
       "      <td>0.612798</td>\n",
       "      <td>0.322351</td>\n",
       "      <td>...</td>\n",
       "      <td>0.262863</td>\n",
       "      <td>0.169030</td>\n",
       "      <td>0.0</td>\n",
       "      <td>0.0</td>\n",
       "      <td>0.0</td>\n",
       "      <td>0.0</td>\n",
       "      <td>0.903055</td>\n",
       "      <td>1.933425</td>\n",
       "      <td>128.539093</td>\n",
       "      <td>4.256883</td>\n",
       "    </tr>\n",
       "    <tr>\n",
       "      <th>8022</th>\n",
       "      <td>8022</td>\n",
       "      <td>2022-12-31 17:00:00</td>\n",
       "      <td>0.468085</td>\n",
       "      <td>0.046214</td>\n",
       "      <td>0.006731</td>\n",
       "      <td>0.085807</td>\n",
       "      <td>0.046227</td>\n",
       "      <td>0.793624</td>\n",
       "      <td>0.587490</td>\n",
       "      <td>0.423653</td>\n",
       "      <td>...</td>\n",
       "      <td>0.265133</td>\n",
       "      <td>0.110329</td>\n",
       "      <td>0.0</td>\n",
       "      <td>0.0</td>\n",
       "      <td>0.0</td>\n",
       "      <td>0.0</td>\n",
       "      <td>0.896917</td>\n",
       "      <td>1.933425</td>\n",
       "      <td>93.140610</td>\n",
       "      <td>3.066674</td>\n",
       "    </tr>\n",
       "  </tbody>\n",
       "</table>\n",
       "<p>8023 rows × 142 columns</p>\n",
       "</div>"
      ],
      "text/plain": [
       "      index                date    weight     NDNSW     SWDIR     SWDIF  \\\n",
       "0         0 2022-10-01 06:00:00  0.574468  0.000000  0.000000  0.000000   \n",
       "1         1 2022-10-01 06:00:00  0.063830  0.000000  0.000000  0.000000   \n",
       "2         2 2022-10-01 06:00:00  0.957447  0.000000  0.000000  0.000000   \n",
       "3         3 2022-10-01 06:00:00  0.319149  0.000000  0.000000  0.000000   \n",
       "4         4 2022-10-01 06:00:00  0.829787  0.000000  0.000000  0.000000   \n",
       "...     ...                 ...       ...       ...       ...       ...   \n",
       "8018   8018 2022-12-31 17:00:00  0.851064  0.077559  0.037726  0.092485   \n",
       "8019   8019 2022-12-31 17:00:00  0.340426  0.050787  0.008975  0.090178   \n",
       "8020   8020 2022-12-31 17:00:00  0.978723  0.081687  0.043443  0.091914   \n",
       "8021   8021 2022-12-31 17:00:00  0.212766  0.068632  0.025098  0.097252   \n",
       "8022   8022 2022-12-31 17:00:00  0.468085  0.046214  0.006731  0.085807   \n",
       "\n",
       "         TDSWS     NDNLW     OULWT      DLWS  ...   TMP-SFC      HPBL  SFCR  \\\n",
       "0     0.000000  0.532327  0.835980  0.491870  ...  0.541377  0.019730   0.0   \n",
       "1     0.000000  0.536627  0.832994  0.503716  ...  0.539997  0.018390   0.0   \n",
       "2     0.000000  0.524636  0.821927  0.445558  ...  0.491327  0.018396   0.0   \n",
       "3     0.000000  0.525929  0.833809  0.492077  ...  0.545552  0.019730   0.0   \n",
       "4     0.000000  0.499805  0.842314  0.456682  ...  0.528047  0.019727   0.0   \n",
       "...        ...       ...       ...       ...  ...       ...       ...   ...   \n",
       "8018  0.077744  0.580357  0.630403  0.255734  ...  0.236205  0.026563   0.0   \n",
       "8019  0.050803  0.791415  0.592571  0.417445  ...  0.263265  0.197818   0.0   \n",
       "8020  0.081688  0.534587  0.641772  0.238940  ...  0.253724  0.050291   0.0   \n",
       "8021  0.068637  0.652120  0.612798  0.322351  ...  0.262863  0.169030   0.0   \n",
       "8022  0.046227  0.793624  0.587490  0.423653  ...  0.265133  0.110329   0.0   \n",
       "\n",
       "      LAND  FRICE  DIST      PRES         OT     OT_pred    n_mape  \n",
       "0      0.0    0.0   0.0  0.706541  39.831963  186.387756  4.927670  \n",
       "1      0.0    0.0   0.0  0.709369  39.831963  191.849625  5.111315  \n",
       "2      0.0    0.0   0.0  0.701391  39.831963  202.181625  5.458710  \n",
       "3      0.0    0.0   0.0  0.705782  39.831963  186.520721  4.932140  \n",
       "4      0.0    0.0   0.0  0.692333  39.831963  182.067200  4.782399  \n",
       "...    ...    ...   ...       ...        ...         ...       ...  \n",
       "8018   0.0    0.0   0.0  0.908551   1.933425  143.896988  4.773264  \n",
       "8019   0.0    0.0   0.0  0.907280   1.933425  128.215424  4.246000  \n",
       "8020   0.0    0.0   0.0  0.915722   1.933425  115.291168  3.811446  \n",
       "8021   0.0    0.0   0.0  0.903055   1.933425  128.539093  4.256883  \n",
       "8022   0.0    0.0   0.0  0.896917   1.933425   93.140610  3.066674  \n",
       "\n",
       "[8023 rows x 142 columns]"
      ]
     },
     "execution_count": 152,
     "metadata": {},
     "output_type": "execute_result"
    }
   ],
   "source": [
    "test_df"
   ]
  },
  {
   "cell_type": "code",
   "execution_count": 97,
   "id": "39ecf805",
   "metadata": {},
   "outputs": [
    {
     "data": {
      "text/plain": [
       "1015"
      ]
     },
     "execution_count": 97,
     "metadata": {},
     "output_type": "execute_result"
    }
   ],
   "source": [
    "len(real_predictions)"
   ]
  },
  {
   "cell_type": "code",
   "execution_count": null,
   "id": "a89f4256",
   "metadata": {},
   "outputs": [],
   "source": []
  },
  {
   "cell_type": "code",
   "execution_count": null,
   "id": "84fb26d4",
   "metadata": {},
   "outputs": [],
   "source": []
  },
  {
   "cell_type": "code",
   "execution_count": null,
   "id": "2e7af20d",
   "metadata": {},
   "outputs": [],
   "source": []
  },
  {
   "cell_type": "code",
   "execution_count": null,
   "id": "a3853fca-f157-4964-a84f-0f663f1eeb42",
   "metadata": {},
   "outputs": [],
   "source": []
  }
 ],
 "metadata": {
  "kernelspec": {
   "display_name": "trnsfm",
   "language": "python",
   "name": "trnsfm"
  },
  "language_info": {
   "codemirror_mode": {
    "name": "ipython",
    "version": 3
   },
   "file_extension": ".py",
   "mimetype": "text/x-python",
   "name": "python",
   "nbconvert_exporter": "python",
   "pygments_lexer": "ipython3",
   "version": "3.10.8"
  }
 },
 "nbformat": 4,
 "nbformat_minor": 5
}
