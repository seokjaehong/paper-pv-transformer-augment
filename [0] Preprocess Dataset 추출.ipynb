{
 "cells": [
  {
   "cell_type": "code",
   "execution_count": 1,
   "id": "27fdcfd9",
   "metadata": {},
   "outputs": [],
   "source": [
    "import os\n",
    "import io\n",
    "import pandas as pd\n",
    "import numpy as np\n",
    "\n",
    "import seaborn as sns\n",
    "\n",
    "import matplotlib\n",
    "#%matplotlib inline\n",
    "from matplotlib import pyplot as plt\n",
    "\n",
    "import plotly.express as px\n",
    "import plotly.graph_objects as go\n",
    "from plotly.subplots import make_subplots\n",
    "\n",
    "from PIL import Image\n",
    "from IPython.display import FileLink\n",
    "\n",
    "import datetime as dt\n",
    "from datetime import date, timedelta, datetime\n",
    "\n",
    "import sklearn\n",
    "from sklearn.preprocessing import MinMaxScaler, StandardScaler\n",
    "from sklearn.metrics import r2_score, mean_absolute_error, mean_squared_error\n",
    "from sklearn.model_selection import train_test_split, GridSearchCV, ShuffleSplit\n",
    "from sklearn.tree import DecisionTreeRegressor\n",
    "\n",
    "from scipy import stats\n",
    "import statsmodels.api as sm\n",
    "from itertools import product\n",
    "\n",
    "from matplotlib.pylab import rcParams\n",
    "\n",
    "import warnings\n",
    "warnings.simplefilter('ignore')"
   ]
  },
  {
   "cell_type": "markdown",
   "id": "0fa1df03",
   "metadata": {},
   "source": [
    "# [1] Data Load"
   ]
  },
  {
   "cell_type": "code",
   "execution_count": 29,
   "id": "670722e8",
   "metadata": {},
   "outputs": [],
   "source": [
    "# original dataset load \n",
    "import pandas as pd\n",
    "ori_df =pd.read_csv(\"0_jy_interpol_v2.csv\")\n",
    "ori_nwp_cols = ['date', 'lead_hr', 'NDNSW', 'SWDIR', 'SWDIF', 'TDSWS', 'NDNLW', 'OULWT', 'DLWS', 'NCPCP', 'SNOL', 'LSPRATE', 'LSSRATE', 'HPBLA', 'HFSOIL', 'LLRIB', 'UGRD', 'VGRD', 'HFSFC', 'XBLWS', 'YBLWS', 'LHTFL', 'TMP', 'TMIN', 'TMAX', 'SPFH', 'TOMFS', 'RH', 'VIS', 'FOGFR', 'DPT', 'PVIS5', '15TL', '15QT', 'VISIP', 'SHFLT-1', 'SHFLT-2', 'SHFLT-3', 'SHFLT-4', 'SHFLT-5', 'SHFLT-6', 'SHFLT-7', 'SHFLT-8', 'SHFLT-9', 'HTBM', 'SCST', 'DSCNC', 'DSCOC', 'NETTL-1', 'NETTL-2', 'NETTL-3', 'NETTL-4', 'NETTL-5', 'NETTL-6', 'NETTL-7', 'NETTL-8', 'NETTL-9', 'STOT-1', 'STOT-2', 'STOT-3', 'STOT-4', 'STOT-5', 'STOT-6', 'STOT-7', 'STOT-8', 'STOT-9', 'HCNP-1', 'HCNP-2', 'HCNP-3', 'HCNP-4', 'HCNP-5', 'WCNP-1', 'WCNP-2', 'WCNP-3', 'WCNP-4', 'WCNP-5', 'T15T-1', 'T15T-2', 'T15T-3', 'T15T-4', 'T15T-5', 'T15T-6', 'T15T-7', 'T15T-8', 'T15T-9', 'SH15-1', 'SH15-2', 'SH15-3', 'SH15-4', 'SH15-5', 'SH15-6', 'SH15-7', 'SH15-8', 'SH15-9', 'HDLB', 'STCP-1', 'STCP-2', 'STCP-3', 'STCP-4', 'STCP-5', 'MAXGUST', 'CBLT', 'SNOM', 'SMCL-1', 'SMCL-2', 'SMCL-3', 'SMCL-4', 'TSOIL-1', 'TSOIL-2', 'TSOIL-3', 'TSOIL-4', 'ROFR', 'SROFR', 'VLCDC', 'LCDC', 'MCDC', 'HCDC', 'CB25', 'CB45', 'TCAR', 'TCAM', 'CFB10', 'LCB', 'WBFLH', 'TCTH', '50MU-min', '50MV-min', '50MU-max', '50MV-max', 'PRMSL', 'SNOAL', 'TMP-SFC', 'HPBL', 'SFCR', 'LAND', 'FRICE', 'DIST', 'PRES', 'OT']\n",
    "output_col = [\"OT\"]\n",
    "FCST_cols =['date']"
   ]
  },
  {
   "cell_type": "code",
   "execution_count": 26,
   "id": "ebe5ea4b",
   "metadata": {},
   "outputs": [],
   "source": [
    "# select useful columns \n",
    "new_df=ori_df[FCST_cols+nwp_cols+output_col]\n",
    "new_df.to_csv('0_jy_interpol_v3.csv',index=False)"
   ]
  },
  {
   "cell_type": "code",
   "execution_count": 27,
   "id": "bce09849",
   "metadata": {},
   "outputs": [],
   "source": [
    "df = pd.read_csv(\"0_jy_interpol_v3.csv\")\n",
    "nwp_cols=\"lead_hr,NDNSW,SWDIR,SWDIF,TDSWS,NDNLW,OULWT,DLWS,HPBLA,HFSOIL,LLRIB,UGRD,VGRD,HFSFC,XBLWS,YBLWS,LHTFL,TMP,TMIN,TMAX,SPFH,TOMFS,RH,VIS,DPT,15TL,15QT,VISIP,SHFLT-1,SHFLT-2,SHFLT-3,SHFLT-4,SHFLT-5,SHFLT-6,SHFLT-7,SHFLT-8,HTBM,NETTL-1,NETTL-2,NETTL-3,NETTL-4,NETTL-5,NETTL-6,NETTL-7,NETTL-8,STOT-1,STOT-2,STOT-3,STOT-4,STOT-5,STOT-6,STOT-7,STOT-8,STOT-9,T15T-1,T15T-2,T15T-3,T15T-4,T15T-8,SH15-1,SH15-2,SH15-3,SH15-4,SH15-8,STCP-1,STCP-2,STCP-3,STCP-4,MAXGUST,CBLT,SNOM,SMCL-1,SMCL-2,SMCL-3,SMCL-4,TSOIL-1,TSOIL-2,TSOIL-3,TSOIL-4,ROFR,SROFR,VLCDC,LCDC,MCDC,HCDC,TCAR,TCAM,LCB,TCTH,50MU-min,50MV-min,50MU-max,50MV-max,PRMSL,SNOAL,TMP-SFC,HPBL,PRES\"\n",
    "nwp_cols = nwp_cols.split(',')\n",
    "output_col = [\"OT\"]\n",
    "FCST_cols =['date']"
   ]
  },
  {
   "cell_type": "code",
   "execution_count": 32,
   "id": "3ac472f2",
   "metadata": {},
   "outputs": [],
   "source": [
    "all_cols = FCST_cols+nwp_cols+output_col\n",
    "tmp_df= df[all_cols]\n",
    "\n",
    "tmp_df.date = pd.to_datetime(tmp_df.date)\n",
    "tmp_df=tmp_df.drop_duplicates()\n",
    "\n",
    "# case1 \n",
    "df_1= tmp_df.copy()\n",
    "df_1=df_1[df_1['lead_hr']!=0]\n",
    "# df_1=df_1.drop(columns=['CRTN_TM'])\n",
    "df_1.reset_index(inplace=True)\n",
    "df_1=df_1.drop(columns=['index'])"
   ]
  },
  {
   "cell_type": "markdown",
   "id": "6a3b8eb0",
   "metadata": {},
   "source": [
    "# [2] 시나리오 1 데이터셋 추출"
   ]
  },
  {
   "cell_type": "code",
   "execution_count": null,
   "id": "088c0aa0",
   "metadata": {},
   "outputs": [],
   "source": [
    "# 첫번째 실험을 위한 데이터셋 추출\n",
    "# df_1.to_csv(\"s1_case1.csv\",index=False)"
   ]
  },
  {
   "cell_type": "code",
   "execution_count": null,
   "id": "cd3924ba",
   "metadata": {},
   "outputs": [],
   "source": [
    "# 두 번째 실험을 위한 데이터셋 추출(1)\n",
    "# case2\n",
    "tmp_df['day']=tmp_df.date.dt.day\n",
    "df_2= tmp_df.copy()\n",
    "df_2=df_2[df_2['lead_hr']!=0]\n",
    "train_df = df_2[df_2['day']<=25]\n",
    "test_df = df_2[df_2['day']>25]\n",
    "df_2 = pd.concat([train_df,test_df])\n",
    "df_2=df_2.drop(columns=['day'])\n",
    "df_2.reset_index(inplace=True)\n",
    "df_2=df_2.drop(columns=['index'])\n",
    "# df_2.to_csv(\"s1_case2.csv\",index=False)\n",
    "\n",
    "# case3 \n",
    "df_3= tmp_df.copy()\n",
    "df_3=df_3[df_3['lead_hr']!=0]\n",
    "df_3['month'] = df_3.date.dt.month\n",
    "df_3['day']=df_3.date.dt.day\n",
    "test_df=df_3[(df_3['month'].isin([5,8,11,2]))&(df_3['day'] > 12)]\n",
    "train_df=df_3.drop(index=list(test_df.index))\n",
    "df_3 = pd.concat([train_df,test_df])\n",
    "df_3=df_3.drop(columns=['day','month'])\n",
    "df_3.reset_index(inplace=True)\n",
    "df_3=df_3.drop(columns=['index'])\n",
    "df_3.to_csv(\"s1_case3.csv\",index=False)"
   ]
  },
  {
   "cell_type": "markdown",
   "id": "01b64210",
   "metadata": {},
   "source": [
    "# [3] 시나리오 2 데이터셋 추출 "
   ]
  },
  {
   "cell_type": "code",
   "execution_count": null,
   "id": "fee23698",
   "metadata": {},
   "outputs": [],
   "source": [
    "# 두 번째 실험을 위한 데이터셋 추출(2) - 평균 및 중앙값으로 집계\n",
    "div = {'mean':'1',\n",
    "#        'max':'2',\n",
    "       'median':'3'\n",
    "      }\n",
    "\n",
    "for i in range(1,4):\n",
    "    for j in div.keys():\n",
    "        file_name = f'clean_dataset/s2_case{str(i)}_from_s1_case_{div[str(j)]}.csv'\n",
    "        output_agg_col ={x:'max'for x in output_col}\n",
    "        nwp_agg_cols={x:j for x in nwp_cols}\n",
    "        nwp_agg_cols.update(output_agg_col)\n",
    "        result=origin_df.groupby('date').agg(nwp_agg_cols)\n",
    "        result=result.reset_index()\n",
    "        if i ==2 : \n",
    "            result['day']=result.date.dt.day\n",
    "            train_df = result[result['day']<=25]\n",
    "            test_df = result[result['day']>25]\n",
    "            result= pd.concat([train_df,test_df])\n",
    "            result=result.drop(columns=['day'])\n",
    "            result.reset_index(drop=True)\n",
    "        elif i==3:\n",
    "            result['day']=result.date.dt.day\n",
    "            result['month'] = result.date.dt.month\n",
    "\n",
    "            test_df=result[(result['month'].isin([5,8,11,2]))&(result['day'] > 12)]\n",
    "            train_df=result.drop(index=list(test_df.index))\n",
    "            result = pd.concat([train_df,test_df])\n",
    "            result=result.drop(columns=['day','month'])\n",
    "            result.reset_index(drop=True)\n",
    "        result.to_csv(file_name,index=False)\n"
   ]
  },
  {
   "cell_type": "markdown",
   "id": "671768dd",
   "metadata": {},
   "source": [
    "# [4] 시나리오 3 데이터 추출 "
   ]
  },
  {
   "cell_type": "code",
   "execution_count": null,
   "id": "03e127d2",
   "metadata": {},
   "outputs": [],
   "source": [
    "import pandas as pd\n",
    "data_num='1'\n",
    "scenario_num='3'\n",
    "dataset = {\n",
    "    '1':pd.read_csv(f\"clean_dataset/s2_case{scenario_num}_from_s1_case_{data_num}.csv\"),\n",
    "#     '3':pd.read_csv(f\"clean_dataset/s2_case{scenario_num}_from_s1_case_{data_num}.csv\")   \n",
    "          }\n",
    "aug_nwp_cols =nwp_cols[1:]"
   ]
  },
  {
   "cell_type": "code",
   "execution_count": null,
   "id": "4cdfaed6",
   "metadata": {},
   "outputs": [],
   "source": [
    "# create s3 dataset \n",
    "\n",
    "import numpy as np \n",
    "\n",
    "\n",
    "sigma_list =[0.01,0.05,0.1]\n",
    "aug_num_list = [1,3,7]\n",
    "mu =0\n",
    "file_number= 1 # 1 ~ 9\n",
    "case_number =6  # 6,7,8\n",
    "\n",
    "\n",
    "for aug_count in aug_num_list:\n",
    "    for sigma in sigma_list:         \n",
    "        new_df_aug_df = dataset[data_num].copy()\n",
    "        new_df_aug_df.date = pd.to_datetime(new_df_aug_df.date)\n",
    "        result_df = pd.DataFrame()\n",
    "        for i in range(1,aug_count+1):\n",
    "            noise = 1-np.random.normal(mu, sigma, [len(new_df_aug_df),len(aug_nwp_cols)+1]) \n",
    "            temp_aug_df= pd.DataFrame()\n",
    "            temp_aug_df['date']=new_df_aug_df['date'] +pd.offsets.DateOffset(years=i)\n",
    "            temp_aug_df['lead_hr'] = new_df_aug_df['lead_hr']\n",
    "            temp_aug_df=temp_aug_df.merge(new_df_aug_df[aug_nwp_cols+output_col]*noise, how='inner',left_index=True,right_index=True)\n",
    "            result_df=pd.concat([result_df,temp_aug_df])\n",
    "        final_df =pd.concat([new_df_aug_df,result_df])\n",
    "        final_df.reset_index(drop=True)\n",
    "        final_df.to_csv(f\"clean_dataset/s3_case{data_num}_from_s2_case_{str(case_number)}_{str(file_number)}.csv\",index=False)\n",
    "        file_number+=1\n",
    "        print(\"FINISH\")\n",
    "        print()\n",
    "    "
   ]
  },
  {
   "cell_type": "code",
   "execution_count": null,
   "id": "68a9c396",
   "metadata": {},
   "outputs": [],
   "source": []
  },
  {
   "cell_type": "code",
   "execution_count": null,
   "id": "0474c63b",
   "metadata": {},
   "outputs": [],
   "source": []
  },
  {
   "cell_type": "code",
   "execution_count": null,
   "id": "7eb9b2dd",
   "metadata": {},
   "outputs": [],
   "source": []
  },
  {
   "cell_type": "code",
   "execution_count": null,
   "id": "f19008e0",
   "metadata": {},
   "outputs": [],
   "source": []
  }
 ],
 "metadata": {
  "kernelspec": {
   "display_name": "trnsfm",
   "language": "python",
   "name": "trnsfm"
  },
  "language_info": {
   "codemirror_mode": {
    "name": "ipython",
    "version": 3
   },
   "file_extension": ".py",
   "mimetype": "text/x-python",
   "name": "python",
   "nbconvert_exporter": "python",
   "pygments_lexer": "ipython3",
   "version": "3.10.8"
  }
 },
 "nbformat": 4,
 "nbformat_minor": 5
}
