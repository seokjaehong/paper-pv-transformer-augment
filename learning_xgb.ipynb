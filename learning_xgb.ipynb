{
 "cells": [
  {
   "cell_type": "code",
   "execution_count": 5,
   "id": "fec7979d-cd1a-4935-a570-11aed247524c",
   "metadata": {
    "execution": {
     "iopub.execute_input": "2023-02-20T02:15:47.431478Z",
     "iopub.status.busy": "2023-02-20T02:15:47.431305Z",
     "iopub.status.idle": "2023-02-20T02:15:48.199409Z",
     "shell.execute_reply": "2023-02-20T02:15:48.199013Z",
     "shell.execute_reply.started": "2023-02-20T02:15:47.431442Z"
    },
    "tags": []
   },
   "outputs": [
    {
     "data": {
      "text/plain": [
       "[]"
      ]
     },
     "execution_count": 5,
     "metadata": {},
     "output_type": "execute_result"
    }
   ],
   "source": [
    "import pandas as pd\n",
    "import pickle\n",
    "import xgboost as xgb\n",
    "import numpy as np\n",
    "\n",
    "from matplotlib import pyplot as plt\n",
    "import tensorflow as tf\n",
    "\n",
    "import os\n",
    "os.environ[\"CUDA_VISIBLE_DEVICES\"]=\"0\"\n",
    "tf.config.list_physical_devices(\"GPU\")"
   ]
  },
  {
   "cell_type": "code",
   "execution_count": 6,
   "id": "11dbcc16-285c-41e2-b051-84af10c144e2",
   "metadata": {
    "execution": {
     "iopub.execute_input": "2023-02-20T02:15:48.199963Z",
     "iopub.status.busy": "2023-02-20T02:15:48.199872Z",
     "iopub.status.idle": "2023-02-20T02:15:48.202512Z",
     "shell.execute_reply": "2023-02-20T02:15:48.202270Z",
     "shell.execute_reply.started": "2023-02-20T02:15:48.199950Z"
    },
    "tags": []
   },
   "outputs": [],
   "source": [
    "os.environ['TF_CPP_MIN_LOG_LEVEL'] = \"3\"\n",
    "os.environ[\"CUDA_VISIBLE_DEVICES\"] = \"0\""
   ]
  },
  {
   "cell_type": "code",
   "execution_count": 7,
   "id": "2c97e28d",
   "metadata": {},
   "outputs": [
    {
     "data": {
      "text/plain": [
       "[name: \"/device:CPU:0\"\n",
       " device_type: \"CPU\"\n",
       " memory_limit: 268435456\n",
       " locality {\n",
       " }\n",
       " incarnation: 16271939443976034094\n",
       " xla_global_id: -1]"
      ]
     },
     "execution_count": 7,
     "metadata": {},
     "output_type": "execute_result"
    }
   ],
   "source": [
    "from tensorflow.python.client import device_lib\n",
    "device_lib.list_local_devices()"
   ]
  },
  {
   "cell_type": "code",
   "execution_count": 24,
   "id": "495907a9",
   "metadata": {},
   "outputs": [],
   "source": [
    "import pandas as pd\n",
    "# df =pd.read_csv(\"0_jy_interpol.csv\")\n",
    "# nwp_cols = \"lead_hr,NDNSW,SWDIR,SWDIF,TDSWS,NDNLW,OULWT,DLWS,NCPCP,SNOL,LSPRATE,LSSRATE,HPBLA,HFSOIL,LLRIB,UGRD,VGRD,HFSFC,XBLWS,YBLWS,LHTFL,TMP,TMIN,TMAX,SPFH,TOMFS,RH,VIS,FOGFR,DPT,PVIS5,15TL,15QT,VISIP,SHFLT-1,SHFLT-2,SHFLT-3,SHFLT-4,SHFLT-5,SHFLT-6,SHFLT-7,SHFLT-8,SHFLT-9,HTBM,SCST,DSCNC,DSCOC,NETTL-1,NETTL-2,NETTL-3,NETTL-4,NETTL-5,NETTL-6,NETTL-7,NETTL-8,NETTL-9,STOT-1,STOT-2,STOT-3,STOT-4,STOT-5,STOT-6,STOT-7,STOT-8,STOT-9,HCNP-1,HCNP-2,HCNP-3,HCNP-4,HCNP-5,WCNP-1,WCNP-2,WCNP-3,WCNP-4,WCNP-5,T15T-1,T15T-2,T15T-3,T15T-4,T15T-5,T15T-6,T15T-7,T15T-8,T15T-9,SH15-1,SH15-2,SH15-3,SH15-4,SH15-5,SH15-6,SH15-7,SH15-8,SH15-9,HDLB,STCP-1,STCP-2,STCP-3,STCP-4,STCP-5,MAXGUST,CBLT,SNOM,SMCL-1,SMCL-2,SMCL-3,SMCL-4,TSOIL-1,TSOIL-2,TSOIL-3,TSOIL-4,ROFR,SROFR,VLCDC,LCDC,MCDC,HCDC,CB25,CB45,TCAR,TCAM,CFB10,LCB,WBFLH,TCTH,50MU-min,50MV-min,50MU-max,50MV-max,PRMSL,SNOAL,TMP-SFC,HPBL,SFCR,LAND,FRICE,DIST,PRES\"\n",
    "df = pd.read_csv(\"clean_dataset/s1_case1.csv\")\n",
    "nwp_cols=\"lead_hr,NDNSW,SWDIR,SWDIF,TDSWS,NDNLW,OULWT,DLWS,HPBLA,HFSOIL,LLRIB,UGRD,VGRD,HFSFC,XBLWS,YBLWS,LHTFL,TMP,TMIN,TMAX,SPFH,TOMFS,RH,VIS,DPT,15TL,15QT,VISIP,SHFLT-1,SHFLT-2,SHFLT-3,SHFLT-4,SHFLT-5,SHFLT-6,SHFLT-7,SHFLT-8,HTBM,NETTL-1,NETTL-2,NETTL-3,NETTL-4,NETTL-5,NETTL-6,NETTL-7,NETTL-8,STOT-1,STOT-2,STOT-3,STOT-4,STOT-5,STOT-6,STOT-7,STOT-8,STOT-9,T15T-1,T15T-2,T15T-3,T15T-4,T15T-8,SH15-1,SH15-2,SH15-3,SH15-4,SH15-8,STCP-1,STCP-2,STCP-3,STCP-4,MAXGUST,CBLT,SNOM,SMCL-1,SMCL-2,SMCL-3,SMCL-4,TSOIL-1,TSOIL-2,TSOIL-3,TSOIL-4,ROFR,SROFR,VLCDC,LCDC,MCDC,HCDC,TCAR,TCAM,LCB,TCTH,50MU-min,50MV-min,50MU-max,50MV-max,PRMSL,SNOAL,TMP-SFC,HPBL,PRES\"\n",
    "nwp_cols = nwp_cols.split(',')\n",
    "output_col = [\"OT\"]\n",
    "FCST_cols =['date']\n",
    "# CRTN_cols = ['CRTN_TM']\n",
    "all_cols = FCST_cols+nwp_cols+output_col\n",
    "tmp_df= df[all_cols]\n",
    "\n",
    "tmp_df.date = pd.to_datetime(tmp_df.date)\n",
    "\n",
    "#case1 \n",
    "# case11_df= tmp_df.copy()\n",
    "# case11_df=case11_df[case11_df['lead_hr']!=0]\n",
    "# # case11_df=case11_df.drop(columns=['CRTN_TM'])\n",
    "# case11_df.reset_index(inplace=True)\n",
    "# case11_df=case11_df.drop(columns=['index'])\n",
    "\n",
    "\n",
    "# case2\n",
    "# tmp_df['day']=tmp_df.date.dt.day\n",
    "# case11_df= tmp_df.copy()\n",
    "# case11_df=case11_df[case11_df['lead_hr']!=0]\n",
    "# train_df = case11_df[case11_df['day']<=25]\n",
    "# test_df = case11_df[case11_df['day']>25]\n",
    "# case11_df = pd.concat([train_df,test_df])\n",
    "# case11_df=case11_df.drop(columns=['day'])\n",
    "# case11_df.reset_index(inplace=True)\n",
    "# case11_df=case11_df.drop(columns=['index'])\n",
    "\n",
    "# case3 \n",
    "case11_df= tmp_df.copy()\n",
    "case11_df=case11_df[case11_df['lead_hr']!=0]\n",
    "case11_df['month'] = case11_df.date.dt.month\n",
    "case11_df['day']=case11_df.date.dt.day\n",
    "test_df=case11_df[(case11_df['month'].isin([5,8,11,2]))&(case11_df['day'] > 12)]\n",
    "train_df=case11_df.drop(index=list(test_df.index))\n",
    "case11_df = pd.concat([train_df,test_df])\n",
    "case11_df=case11_df.drop(columns=['day','month'])\n",
    "case11_df.reset_index(inplace=True)\n",
    "case11_df=case11_df.drop(columns=['index'])\n"
   ]
  },
  {
   "cell_type": "code",
   "execution_count": 25,
   "id": "694188a3",
   "metadata": {},
   "outputs": [],
   "source": [
    "case11_df=case11_df.set_index(\"date\")"
   ]
  },
  {
   "cell_type": "code",
   "execution_count": 26,
   "id": "455918f6",
   "metadata": {},
   "outputs": [],
   "source": [
    "\n",
    "from sklearn.preprocessing import StandardScaler\n",
    "\n",
    "# sc = StandardScaler() \n",
    "# x = case11_df.drop(['OT'], axis=1).values # 독립변인들의 value값만 추출\n",
    "# y = case11_df['OT'].values # 종속변인 추출\n",
    "# x_std = sc.fit_transform(x) # standardizing the data\n",
    "# x_std_df= pd.DataFrame(x_std, columns=case11_df.columns)\n",
    "\n",
    "# case11_df=case11_df.reset_index()\n",
    "# case11_df=case11_df[['date','OT']]\n",
    "# case11_df=pd.merge(case11_df,x_std_df,how='inner',left_index=True,right_index=True)\n",
    "# case11_df.head()\n",
    "\n",
    "sc = StandardScaler()\n",
    "x = case11_df.values\n",
    "x_std = sc.fit_transform(x)\n",
    "x_std_df = pd.DataFrame(x_std, columns = case11_df.columns)\n",
    "\n",
    "case11_df = case11_df.reset_index()\n",
    "case11_df=case11_df.reset_index()\n",
    "case11_df=case11_df[['date']]\n",
    "case11_df=pd.merge(case11_df,x_std_df,how='inner',left_index=True,right_index=True)\n"
   ]
  },
  {
   "cell_type": "code",
   "execution_count": 27,
   "id": "e6ccc712-fe4c-45bd-ba0e-5f02fc49b42a",
   "metadata": {
    "execution": {
     "iopub.execute_input": "2023-02-20T02:15:48.203322Z",
     "iopub.status.busy": "2023-02-20T02:15:48.203209Z",
     "iopub.status.idle": "2023-02-20T02:15:48.207880Z",
     "shell.execute_reply": "2023-02-20T02:15:48.207529Z",
     "shell.execute_reply.started": "2023-02-20T02:15:48.203309Z"
    }
   },
   "outputs": [],
   "source": [
    "def feat_importance(input_cols, model):\n",
    "    results=pd.DataFrame()\n",
    "    results['columns']= input_cols\n",
    "    results['importances'] = model.feature_importances_\n",
    "    results.sort_values(by='importances', ascending=False, inplace=True)\n",
    "\n",
    "    print(results[:20])"
   ]
  },
  {
   "cell_type": "code",
   "execution_count": 28,
   "id": "6308d464",
   "metadata": {},
   "outputs": [],
   "source": [
    "all_len = len(case11_df)"
   ]
  },
  {
   "cell_type": "code",
   "execution_count": 29,
   "id": "e83f13c5-521c-4d34-bdc1-b694547a0fc3",
   "metadata": {
    "execution": {
     "iopub.execute_input": "2023-02-20T02:15:48.208412Z",
     "iopub.status.busy": "2023-02-20T02:15:48.208327Z",
     "iopub.status.idle": "2023-02-20T02:16:42.784515Z",
     "shell.execute_reply": "2023-02-20T02:16:42.784084Z",
     "shell.execute_reply.started": "2023-02-20T02:15:48.208401Z"
    },
    "tags": []
   },
   "outputs": [],
   "source": [
    "# data.CRTN_TM = pd.to_datetime(data.CRTN_TM)\n",
    "case11_df.date = pd.to_datetime(case11_df.date)\n",
    "# data = data[data.OT > 0]\n",
    "\n",
    "training_original_df = case11_df[:int(all_len*0.8)].reset_index(drop=True)\n",
    "test_original_df = case11_df[int(all_len*0.8):].reset_index(drop=True)\n",
    "test_original_df=test_original_df[(test_original_df['date'].dt.hour>=7) &(test_original_df['date'].dt.hour<20)]\n",
    "test_original_df=test_original_df.reset_index(drop=True)\n",
    "\n",
    "training_df = training_original_df[FCST_cols+nwp_cols+output_col]\n",
    "\n",
    "train_X = training_df[nwp_cols].values\n",
    "train_y = training_df['OT'].values\n",
    "\n",
    "test_X = test_original_df[nwp_cols].values\n",
    "test_df = test_original_df\n",
    "\n",
    "\n"
   ]
  },
  {
   "cell_type": "code",
   "execution_count": 30,
   "id": "fe70bc6b",
   "metadata": {},
   "outputs": [
    {
     "name": "stdout",
     "output_type": "stream",
     "text": [
      "    columns  importances\n",
      "37  NETTL-1     0.507534\n",
      "40  NETTL-4     0.135360\n",
      "96     HPBL     0.086611\n",
      "4     TDSWS     0.028055\n",
      "21    TOMFS     0.022659\n",
      "30  SHFLT-3     0.016766\n",
      "36     HTBM     0.014885\n",
      "75  TSOIL-1     0.013458\n",
      "44  NETTL-8     0.008826\n",
      "5     NDNLW     0.008762\n",
      "39  NETTL-3     0.007544\n",
      "16    LHTFL     0.006367\n",
      "86     TCAM     0.005321\n",
      "50   STOT-6     0.005271\n",
      "28  SHFLT-1     0.005054\n",
      "64   STCP-1     0.005050\n",
      "3     SWDIF     0.004855\n",
      "18     TMIN     0.004425\n",
      "71   SMCL-1     0.003683\n",
      "19     TMAX     0.003450\n"
     ]
    }
   ],
   "source": [
    "import xgboost as xgb\n",
    "import numpy as np\n",
    "from datetime import datetime\n",
    "from matplotlib import pyplot as plt\n",
    "start_dt = datetime.now()\n",
    "model = xgb.XGBRegressor()\n",
    "\n",
    "model.fit(train_X, train_y)\n",
    "\n",
    "feat_importance(nwp_cols, model)"
   ]
  },
  {
   "cell_type": "code",
   "execution_count": 31,
   "id": "4bf2470e-3a36-4dc2-9037-f699bdb449a4",
   "metadata": {
    "execution": {
     "iopub.execute_input": "2023-02-20T02:16:42.785420Z",
     "iopub.status.busy": "2023-02-20T02:16:42.785134Z",
     "iopub.status.idle": "2023-02-20T02:16:43.504649Z",
     "shell.execute_reply": "2023-02-20T02:16:43.504239Z",
     "shell.execute_reply.started": "2023-02-20T02:16:42.785404Z"
    }
   },
   "outputs": [
    {
     "name": "stdout",
     "output_type": "stream",
     "text": [
      "0.1942789410246862\n",
      "0.2920341126416739\n",
      "6.978647\n",
      "0.009516\n"
     ]
    }
   ],
   "source": [
    "test_start_dt = datetime.now()\n",
    "predictions = model.predict(test_X)\n",
    "\n",
    "prediction_df = pd.DataFrame(predictions, columns=['OT'])\n",
    "\n",
    "# prediction_df[prediction_df['OT']<=0]=0\n",
    "test_df[\"OT_pred\"] = prediction_df\n",
    "\n",
    "# print(test_df)\n",
    "from sklearn.metrics import mean_absolute_error,mean_squared_error\n",
    "mse = mean_squared_error(test_df['OT'], test_df['OT_pred'])\n",
    "print(mse)\n",
    "mae=mean_absolute_error(test_df['OT'], test_df['OT_pred'])\n",
    "print(mae)\n",
    "\n",
    "print((test_start_dt- start_dt).total_seconds())\n",
    "print((datetime.now()-test_start_dt).total_seconds())"
   ]
  }
 ],
 "metadata": {
  "kernelspec": {
   "display_name": "trnsfm",
   "language": "python",
   "name": "trnsfm"
  },
  "language_info": {
   "codemirror_mode": {
    "name": "ipython",
    "version": 3
   },
   "file_extension": ".py",
   "mimetype": "text/x-python",
   "name": "python",
   "nbconvert_exporter": "python",
   "pygments_lexer": "ipython3",
   "version": "3.10.8"
  }
 },
 "nbformat": 4,
 "nbformat_minor": 5
}
